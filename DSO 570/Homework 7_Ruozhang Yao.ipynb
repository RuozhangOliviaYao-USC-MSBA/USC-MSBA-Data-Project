{
 "cells": [
  {
   "cell_type": "markdown",
   "metadata": {},
   "source": [
    "# Homework 7 (due before class on 3/26)\n",
    "\n",
    "### Name: Ruozhang Yao\n"
   ]
  },
  {
   "cell_type": "markdown",
   "metadata": {},
   "source": [
    "## Instructions for typesetting math in Markdown cells\n",
    "\n",
    "It is possible to render mathematical expressions nicely in Markdown cells, using a type of script called \"LaTex\". LaTex the standard format for people in technical fields to write math nicely. (You can Google for examples of what you can do with LaTex.) \n",
    "\n",
    "To render an expression using LaTex, the expression must be enclosed with dollar signs. For example, the expression `$X>0$` is rendered $X>0$. A single dollar sign is for mathematical expressions within the same line, and double dollar signs are for a standalone mathematical expressions in its own line. Hence, `$$X > 0.$$` is rendered as  $$X>0.$$\n"
   ]
  },
  {
   "cell_type": "markdown",
   "metadata": {},
   "source": [
    "### Example of typesetting a LP\n",
    "\n",
    "**Decision variable:** Let $X$ and $Y$ denote the amount of product X and product Y to produce. \n",
    "\n",
    "**Objective and constraints:**\n",
    "$$\\begin{aligned}\n",
    "\\text{maximize} && 20X+10Y \\\\\n",
    "\\text{subject to:} \\\\\n",
    "\\text{(Material 1)} && 4X+Y & \\le 60 \\\\\n",
    "\\text{(Material 2)} && 2Y & \\le 48 \\\\\n",
    "\\text{(Labor)} && X+Y & \\le 30 \\\\\n",
    "\\text{(Non-negativity)} && X,Y & \\ge 0\n",
    "\\end{aligned}$$\n",
    "\n",
    "Notice that the variables $X$ and $Y$ are in a special font denoting mathematical variables. Moreover, notice that the linear program above is centered and aligned, both at the colons and at the signs ($\\le$ and $\\ge$). It is useful to learn to do such formating in Markdown in order to better communicate your LP formulations to others.\n",
    "\n",
    "Double click this Markdown cell to see the code that created the math. Then execute the cell again to render it."
   ]
  },
  {
   "cell_type": "markdown",
   "metadata": {},
   "source": [
    "### Explanation of above\n",
    "\n",
    "To make the linear program aligned, we not only use the double dollar signs, but also use the `\\begin{aligned} \\end{aligned}` commands. (Double click the linear program above to see the code.) Within this block of LaTex script,\n",
    "\n",
    "- `\\text{ }` is for displaying the enclosed string as plain text, without the mathematical rendering.\n",
    "- `&` is for alignment. The convention is right align before the first `&`, then left align between the first and second `&` of each line, then right align again between the second and third `&` and so on. Hence, to make it right aligned both before and after the colon, we use a double `&&` after the `\\text{}`. If this is confusing, you can simply copy this convention for this homework (`&&` after the explanation of constraint, and `&` before the sign). \n",
    "- `\\\\` is for creating a new line. Notice that we end the line early using `\\\\` for \"subject to\" and \"maximize\".\n",
    "- `\\le` (less than or equal to) is for $\\le$, and `\\ge` (greater than or equal to) is for $\\ge$. This looks better than $<=$ and $>=$.\n",
    "- `\\qquad` is for creating spacing within a line.\n",
    "\n",
    "**Unfortunately, it is difficult to debug LaTex within Jupyter notebook. Hence, if there is any error at all, then the LaTex will not render and you will see your original script.** When this happens, try to render one line at a time and see which line is causing the error. You can see more examples from all the posted in-class handouts. (Download the .ipynb file by viewing the handout note on NBViewer and clicking the download button to the top right of the screen.)"
   ]
  },
  {
   "cell_type": "markdown",
   "metadata": {},
   "source": [
    "## Q1: (Solving a LP manually by graphing)\n",
    "\n",
    "**(DMD Exercise 7.2)** The Magnetron Company manufactures and markets microwave ovens. Currently, the company produces two models: full-size and compact. Production is limited by the amount of labor available in the general assembly and electronic assembly departments, as well as by the demand for each model. Each full-size oven requires 2 hours of general assembly and 2 hours of electronic assembly, whereas each compact oven requires 1 hour of general assembly and 3 hours of electronic assembly. In the current production period, there are 500 hours of general assembly labor available and 800 hours of electronic assembly labor available. \n",
    "\n",
    "In additional, the company estimates that it can sell at most 220 full-size ovens and 180 compact ovens in the current production period. The earnings contribution per oven is 120 dollars for a full-size oven and 130 dollars for a compact oven. The company would like to find an earnings-maximizing production plan for the current production period. \n",
    "\n",
    "**A)** Formulate the above problem as a LP. (You must type your formulation into a Markdown cell following the typesetting instructions above. \n",
    "\n",
    "\n",
    "**For parts B) and C), you should plot by hand on a scrap piece of paper. You do not have to submit your hand drawing, but you need to learn to do this for a quiz or an exam.**\n",
    "\n",
    "**B)** Solve the LP graphically. What is the optimal solution and the optimal objective value? What constraints are binding at the optimal solution?\n",
    "\n",
    "**C)** Consider the general assembly labor constraint. Suppose that the number 500 was changed to 510, re-solve the equations of the binding constraints to compute the new optimal solution. What is the difference in the optimal objective value? Divide this by 10 to find the marginal value of 1 unit of additional general assembly labor (which is the shadow price of this constraint). \n",
    "\n",
    "\n",
    "\n"
   ]
  },
  {
   "cell_type": "markdown",
   "metadata": {},
   "source": [
    "**A)** **Decision variable:** Let $X$ and $Y$ denote the amount of full-size ovens and compact ovens to produce. \n",
    "\n",
    "**Objective and constraints:**\n",
    "$$\\begin{aligned}\n",
    "    \\text{maximize} && 120X+130Y \\\\\n",
    "\\text{subject to:} \\\\\n",
    "\\text{(General assembly )} && 2X+Y & \\le 500 \\\\\n",
    "\\text{(Electronic assembly)} && 2X+3Y & \\le 800 \\\\\n",
    "\\text{(Maximum Production)} && X & \\le 220 \\\\\n",
    "\\text{(Maximum Production)} && Y & \\le 180 \\\\\n",
    "\\text{(Non-negativity)} && X,Y & \\ge 0\n",
    "\\end{aligned}$$\n"
   ]
  },
  {
   "cell_type": "code",
   "execution_count": 21,
   "metadata": {},
   "outputs": [
    {
     "name": "stdout",
     "output_type": "stream",
     "text": [
      "Optimize a model with 4 rows, 2 columns and 6 nonzeros\n",
      "Coefficient statistics:\n",
      "  Matrix range     [1e+00, 3e+00]\n",
      "  Objective range  [1e+02, 1e+02]\n",
      "  Bounds range     [0e+00, 0e+00]\n",
      "  RHS range        [2e+02, 8e+02]\n",
      "Presolve removed 2 rows and 0 columns\n",
      "Presolve time: 0.01s\n",
      "Presolved: 2 rows, 2 columns, 4 nonzeros\n",
      "\n",
      "Iteration    Objective       Primal Inf.    Dual Inf.      Time\n",
      "       0    6.5000000e+04   1.237500e+02   0.000000e+00      0s\n",
      "       2    4.0500000e+04   0.000000e+00   0.000000e+00      0s\n",
      "\n",
      "Solved in 2 iterations and 0.01 seconds\n",
      "Optimal objective  4.050000000e+04\n"
     ]
    }
   ],
   "source": [
    "# B\n",
    "import gurobipy as grb\n",
    "mod=grb.Model()\n",
    "X=mod.addVar()\n",
    "Y=mod.addVar()\n",
    "mod.setObjective(120*X+130*Y,sense=grb.GRB.MAXIMIZE)\n",
    "general=mod.addConstr(2*X+Y <= 500)\n",
    "electronic=mod.addConstr(2*X+3*Y <= 800)\n",
    "mod.addConstr(X<=220)\n",
    "mod.addConstr(Y<=180)\n",
    "mod.optimize()"
   ]
  },
  {
   "cell_type": "code",
   "execution_count": 39,
   "metadata": {},
   "outputs": [
    {
     "name": "stdout",
     "output_type": "stream",
     "text": [
      "Optimal Objective Value: 40500.0\n",
      "A) Optimal solution:\n",
      "\t Full-size: 175.0\n",
      "\t Compact: 150.0\n",
      "B) Effect of adding 1 hour of general assembly labor:\n",
      "General assembly labor 25.000 \t valid RHS: 440.0 to 560.0\n",
      "C) Effect of adding 1 hour of electronic assembly labor:\n",
      "Electronic assembly labor 35.000 \t valid RHS: 650.0 to 870.0\n"
     ]
    }
   ],
   "source": [
    "print('Optimal Objective Value:',mod.objval)\n",
    "\n",
    "print('A) Optimal solution:')\n",
    "print('\\t Full-size:',X.x)\n",
    "print('\\t Compact:',Y.x)\n",
    "\n",
    "\n",
    "print('B) Effect of adding 1 hour of general assembly labor:')\n",
    "print(f'General assembly labor {general.pi:.3f} \\t valid RHS: {general.sarhslow} to {general.sarhsup}')\n",
    "    \n",
    "print('C) Effect of adding 1 hour of electronic assembly labor:')\n",
    "print(f'Electronic assembly labor {electronic.pi:.3f} \\t valid RHS: {electronic.sarhslow} to {electronic.sarhsup}')"
   ]
  },
  {
   "cell_type": "markdown",
   "metadata": {},
   "source": [
    "Both General assembly labor and Electronic assembly labor are binding at the optimal solution."
   ]
  },
  {
   "cell_type": "code",
   "execution_count": 23,
   "metadata": {},
   "outputs": [
    {
     "name": "stdout",
     "output_type": "stream",
     "text": [
      "Optimize a model with 4 rows, 2 columns and 6 nonzeros\n",
      "Coefficient statistics:\n",
      "  Matrix range     [1e+00, 3e+00]\n",
      "  Objective range  [1e+02, 1e+02]\n",
      "  Bounds range     [0e+00, 0e+00]\n",
      "  RHS range        [2e+02, 8e+02]\n",
      "Presolve removed 2 rows and 0 columns\n",
      "Presolve time: 0.01s\n",
      "Presolved: 2 rows, 2 columns, 4 nonzeros\n",
      "\n",
      "Iteration    Objective       Primal Inf.    Dual Inf.      Time\n",
      "       0    6.6300000e+04   1.281250e+02   0.000000e+00      0s\n",
      "       2    4.0750000e+04   0.000000e+00   0.000000e+00      0s\n",
      "\n",
      "Solved in 2 iterations and 0.01 seconds\n",
      "Optimal objective  4.075000000e+04\n"
     ]
    }
   ],
   "source": [
    "# C\n",
    "import gurobipy as grb\n",
    "mod2=grb.Model()\n",
    "X2=mod2.addVar()\n",
    "Y2=mod2.addVar()\n",
    "mod2.setObjective(120*X2+130*Y2,sense=grb.GRB.MAXIMIZE)\n",
    "general=mod2.addConstr(2*X2+Y2 <= 510)\n",
    "electronic=mod2.addConstr(2*X2+3*Y2 <= 800)\n",
    "mod2.addConstr(X2<=220)\n",
    "mod2.addConstr(Y2<=180)\n",
    "mod2.optimize()"
   ]
  },
  {
   "cell_type": "code",
   "execution_count": 24,
   "metadata": {},
   "outputs": [
    {
     "name": "stdout",
     "output_type": "stream",
     "text": [
      "Optimal Objective Value: 40750.0\n",
      "A) Optimal solution:\n",
      "\t Full-size: 182.5\n",
      "\t Compact: 145.0\n",
      "B) Difference in the optimal objective value: 250.0\n"
     ]
    }
   ],
   "source": [
    "print('Optimal Objective Value:',mod2.objval)\n",
    "\n",
    "print('A) Optimal solution:')\n",
    "print('\\t Full-size:',X2.x)\n",
    "print('\\t Compact:',Y2.x)\n",
    "\n",
    "print('B) Difference in the optimal objective value:', mod2.objval-mod.objval)"
   ]
  },
  {
   "cell_type": "markdown",
   "metadata": {},
   "source": [
    "## Q2 (Production Planning)\n",
    "\n",
    "**DMD Exercise 7.8** Nature's best Frozen Foods company produces four different mixes of frozen ready-to-eat vegetables. The mixes const of five different vegetables: carrots, mushrooms, green peppers, broccoli, and corn. The company manufacturers four different mixes each sold in 10 oz. bags. The mixes are \"Stir Fry\", \"Barbecue\", \"Hearty Mushrooms\" and \"Veggie Crunch,\" and their contributions to earnings (per bag) are 0.22, 0.20, 0.18 and 0.18 respectively. The monthly supplies of carrots, mushrooms, green peppers, broccoli and corn are 150,000 oz., 80,000 oz., 135,000 oz., 140,000 oz., and 150,000 oz. per month, respectively. The compositions of the mixes are shown in the table below. For example, one bag of \"Stir Fry\" mix contains 2.5 oz. of carrots, 3.0 oz. of mushrooms, 2.5 oz. of green peppers, 2.0 oz. of broccoli, and no corn. \n",
    "\n",
    "|` `| Stir Fry | Barbecue | Hearty Mushrooms | Veggie Crunch |\n",
    "|--|--|--|--|--|\n",
    "|Carrots | 2.5 | 2.0 | - | 2.5 |\n",
    "|Mushrooms | 3.0 | - | 4.0 | - |\n",
    "|Green Peppers | 2.5 | 2.0 | 3 | 2.5 |\n",
    "|Broccoli | 2.0 | 3.0 | 3.0 | 2.5 |\n",
    "|Corn | - | 3.0 | - | 2.5 |\n",
    "\n",
    "Construct a LP to determine the optimal product mix to maximize total earnings. (You need to write the math formulation in a Markdown cell following the typesetting instructions at the top of this homework.) Solve this LP using Gurobi. What is the optimal product mix and the optimal objective value? What is the value of an extra ounce of green peppers?"
   ]
  },
  {
   "cell_type": "markdown",
   "metadata": {},
   "source": [
    "**Decision variable:** Let $S$, $B$, $H$ and $V$ denote the amount of bags for Stir Fry, Barbecue, Hearty Mushrooms and Veggie Crunch.\n",
    "\n",
    "**Objective and constraints:**\n",
    "$$\\begin{aligned}\n",
    "\\text{maximize}&& 0.22S+0.20B+0.18H+0.18V\\\\\n",
    "\\text{subject to:} \\\\\n",
    "\\text{(Carrots)}&& 2.5S+2.0B+2.5V & \\le 150000 \\\\\n",
    "\\text{(Mushrooms)} && 3S+4H & \\le 80000 \\\\\n",
    "\\text{(Green Peppers)} && 2.5S+2B+3H+2.5V & \\le 135000 \\\\\n",
    "\\text{(Broccoli)} && 2S+3B+3H+2.5V & \\le 140000 \\\\\n",
    "\\text{(Corn)} && 3B+2.5V & \\le 150000 \\\\\n",
    "\\text{(Non-negativity)} && S,B,H,V & \\ge 0 \\\\\n",
    "\\end{aligned}$$\n",
    "We assume $S$, $B$, $H$ and $V$ can be decimal\n"
   ]
  },
  {
   "cell_type": "code",
   "execution_count": 51,
   "metadata": {},
   "outputs": [
    {
     "name": "stdout",
     "output_type": "stream",
     "text": [
      "Optimize a model with 5 rows, 4 columns and 15 nonzeros\n",
      "Coefficient statistics:\n",
      "  Matrix range     [2e+00, 4e+00]\n",
      "  Objective range  [2e-01, 2e-01]\n",
      "  Bounds range     [0e+00, 0e+00]\n",
      "  RHS range        [8e+04, 2e+05]\n",
      "Presolve time: 0.01s\n",
      "Presolved: 5 rows, 4 columns, 15 nonzeros\n",
      "\n",
      "Iteration    Objective       Primal Inf.    Dual Inf.      Time\n",
      "       0    7.8000000e+29   1.000000e+31   7.800000e-01      0s\n",
      "       3    1.1813333e+04   0.000000e+00   0.000000e+00      0s\n",
      "\n",
      "Solved in 3 iterations and 0.01 seconds\n",
      "Optimal objective  1.181333333e+04\n"
     ]
    }
   ],
   "source": [
    "from gurobipy import Model, GRB\n",
    "modq2=grb.Model()\n",
    "S=modq2.addVar(lb=0)\n",
    "B=modq2.addVar(lb=0)\n",
    "H=modq2.addVar(lb=0)\n",
    "V=modq2.addVar(lb=0)\n",
    "modq2.setObjective(.22*S+.2*B+.18*H+.18*V,sense=grb.GRB.MAXIMIZE)\n",
    "carrots=modq2.addConstr(2.5*S+2*B+2.5*V <= 150000)\n",
    "mushrooms=modq2.addConstr(3*S+4*H <= 80000)\n",
    "greenpeppers=modq2.addConstr(2.5*S+2*B+3*H+2.5*V <= 135000)\n",
    "brocolli=modq2.addConstr(2*S+3*B+3*H+2.5*V <= 140000)\n",
    "corn=modq2.addConstr(3*B+2.5*V <= 150000)\n",
    "modq2.optimize()"
   ]
  },
  {
   "cell_type": "code",
   "execution_count": 66,
   "metadata": {},
   "outputs": [
    {
     "name": "stdout",
     "output_type": "stream",
     "text": [
      "Optimal Objective Value: 11813.333333333334\n",
      "A) Optimal solution:\n",
      "\t Stir Fry: 26666.666666666668\n",
      "\t Barbecue: 0.0\n",
      "\t Hearty Mushrooms: 0.0\n",
      "\t Veggie Crunch: 12666.666666666655\n",
      "B) Effect of adding 1 ounce of green peppers:\n",
      "\t Add 1 ounce green pepper: 0.016, valid RHS: 124444.444 to 150000.0\n"
     ]
    }
   ],
   "source": [
    "print('Optimal Objective Value:',modq2.objval)\n",
    "\n",
    "print('A) Optimal solution:')\n",
    "print('\\t Stir Fry:',S.x)\n",
    "print('\\t Barbecue:',B.x)\n",
    "print('\\t Hearty Mushrooms:',H.x)\n",
    "print('\\t Veggie Crunch:',V.x)\n",
    "\n",
    "print('B) Effect of adding 1 ounce of green peppers:')\n",
    "print(f'\\t Add 1 ounce green pepper: {greenpeppers.pi:0.3f}, valid RHS: {greenpeppers.sarhslow:.3f} to {greenpeppers.sarhsup}')"
   ]
  },
  {
   "cell_type": "markdown",
   "metadata": {},
   "source": [
    "## Q3 (Portfolio Planning)\n",
    "\n",
    "**(DMD Exercise 7.12)** An investor is considering allocating 10,000 dollars among five investment alternatives. The five alternatives and their respective fund categories, risk levels, and average annual returns are shown below. \n",
    "\n",
    "| Fund | Category | Risk Level | Average Annual Return |\n",
    "|--|--|--|--|\n",
    "| A | Money Market | 1 | 4.50\\% |\n",
    "| B | Money Market | 2 | 5.62 \\% |\n",
    "| C | Bond | 2 | 6.80\\% |\n",
    "| D | Bond | 3 | 10.15\\% |\n",
    "| E | Aggressive Growth | 5 | 20.60\\% |\n",
    "\n",
    "The risk level of each fund is rated on a scale of 1 to 5, where 1 is very conservative and 5 is very risky. The investor would like to maximize the average annual return of the portfolio subject to the following restrictions: \n",
    "\n",
    "1. The average risk level of the entire investment should not exceed 2.5\n",
    "\n",
    "2. At least 30\\% of the investment should be placed in money market funds.\n",
    "\n",
    "3. At most 2,000 dollars should be invested in the aggressive growth fund.\n",
    "\n",
    "Construct and solve a LP to determine the optimal allocation of the investor's money. (You need to write the math formulation nicely in Markdown following the typesetting instructions at the top.)"
   ]
  },
  {
   "cell_type": "markdown",
   "metadata": {},
   "source": [
    "**Decision variable:** Let $A$, $B$, $C$, $D$ and $E$ denote the amount of money invested in fund A,B,C,D,E\n",
    "\n",
    "**Objective and constraints:**\n",
    "$$\\begin{aligned}\n",
    "\\text{maximize}&& 1.045A+1.0562B+1.068C+1.1015D+1.2060E\\\\\n",
    "\\text{subject to:} \\\\\n",
    "\\text{(money)}&& A+B+C+D+E & \\le 10000 \\\\\n",
    "\\text{(risk)}&& \\frac{A+2B+2C+3D+5E}{A+B+C+D+E} & \\le 2.5 \\\\\n",
    "\\text{(moneymarket)} && \\frac{A+B}{A+B+C+D+E} & \\ge 0.3 \\\\\n",
    "\\text{(aggressive)} && E & \\le 2000 \\\\\n",
    "\\text{(Non-negativity)} && A,B,C,D,E & \\ge 0 \\\\\n",
    "\\end{aligned}$$"
   ]
  },
  {
   "cell_type": "code",
   "execution_count": 65,
   "metadata": {},
   "outputs": [
    {
     "name": "stdout",
     "output_type": "stream",
     "text": [
      "Optimize a model with 4 rows, 5 columns and 16 nonzeros\n",
      "Coefficient statistics:\n",
      "  Matrix range     [3e-01, 2e+00]\n",
      "  Objective range  [1e+00, 1e+00]\n",
      "  Bounds range     [0e+00, 0e+00]\n",
      "  RHS range        [2e+03, 1e+04]\n",
      "Presolve removed 1 rows and 0 columns\n",
      "Presolve time: 0.01s\n",
      "Presolved: 3 rows, 5 columns, 15 nonzeros\n",
      "\n",
      "Iteration    Objective       Primal Inf.    Dual Inf.      Time\n",
      "       0    1.2060000e+04   4.312500e+03   0.000000e+00      0s\n",
      "       4    1.0969750e+04   0.000000e+00   0.000000e+00      0s\n",
      "\n",
      "Solved in 4 iterations and 0.01 seconds\n",
      "Optimal objective  1.096975000e+04\n"
     ]
    }
   ],
   "source": [
    "from gurobipy import Model, GRB\n",
    "mod3=grb.Model()\n",
    "A=mod3.addVar(lb=0)\n",
    "B=mod3.addVar(lb=0)\n",
    "C=mod3.addVar(lb=0)\n",
    "D=mod3.addVar(lb=0)\n",
    "E=mod3.addVar(lb=0)\n",
    "mod3.setObjective(1.045*A+1.0562*B+1.068*C+1.1015*D+1.2060*E,sense=grb.GRB.MAXIMIZE)\n",
    "money=mod3.addConstr(A+B+C+D+E <= 10000)\n",
    "risk=mod3.addConstr(A+2*B+2*C+3*D+5*E<= 2.5*(A+B+C+D+E))\n",
    "moneymarket=mod3.addConstr(A+B>= 0.3*(A+B+C+D+E))\n",
    "aggressive=mod3.addConstr(E<= 2000)\n",
    "mod3.optimize()"
   ]
  },
  {
   "cell_type": "code",
   "execution_count": 67,
   "metadata": {},
   "outputs": [
    {
     "name": "stdout",
     "output_type": "stream",
     "text": [
      "Expected annual return: 0.096975\n",
      "Optimal solution:\n",
      "\t Fund A: 4500.0\n",
      "\t Fund B: 0.0\n",
      "\t Fund C: 0.0\n",
      "\t Fund D: 3500.0\n",
      "\t Fund E: 2000.0\n"
     ]
    }
   ],
   "source": [
    "print('Expected annual return:',(mod3.objval-10000)/10000)\n",
    "\n",
    "print('Optimal solution:')\n",
    "print('\\t Fund A:',A.x)\n",
    "print('\\t Fund B:',B.x)\n",
    "print('\\t Fund C:',C.x)\n",
    "print('\\t Fund D:',D.x)\n",
    "print('\\t Fund E:',E.x)"
   ]
  },
  {
   "cell_type": "code",
   "execution_count": 2,
   "metadata": {},
   "outputs": [
    {
     "name": "stdout",
     "output_type": "stream",
     "text": [
      "Expected annual return 0.096975\n",
      "Optimal allocation:\n",
      "\t Fund A : 4500.0\n",
      "\t Fund B : 0.0\n",
      "\t Fund C : 0.0\n",
      "\t Fund D : 3500.0\n",
      "\t Fund E : 2000.0\n"
     ]
    }
   ],
   "source": [
    "# Numerical answer"
   ]
  },
  {
   "cell_type": "markdown",
   "metadata": {},
   "source": [
    "## Q4 (Project Sub-Contracting)\n",
    "\n",
    "Tom Burke, owner of Burke Construction, has promised to complete five projects this winter. Burke Construction has 10 workers that will work 40 hours a week for 12 weeks this winter. Since this is a limited workforce, Tom knows that he will not be able to complete all of his construction projects without subcontracting some of them. In the table below, he has estimated the amount of labor hours required by each project, and the profit to his company. \n",
    "\n",
    "| Project | 1 | 2 | 3 | 4 | 5 |\n",
    "|--|--|--|--|--|--|\n",
    "| Labor hours required | 1300 | 950 | 1000 | 1400 | 1600 |\n",
    "| Profit (if done by own company) | \\$30,000 | \\$10,000 | \\$26,000 | \\$18,000 | \\$20,000 |\n",
    "| Profit (if subcontracted) | \\$6,000 | \\$2,000 | \\$8,000 | \\$9,000 | \\$4,500 |\n",
    "\n",
    "To maximize profit, which jobs should Tom schedule for his company, and which should be subcontracted? (Formulate this as an optimization problem and solve it.) Assume that projects cannot be partially subcontracted; that is, a project will be completed entirely by either Burke Construction or the subcontractor."
   ]
  },
  {
   "cell_type": "markdown",
   "metadata": {},
   "source": [
    "**Decision Variables:**\n",
    "\n",
    "- Let $x_1, x_2, x_3, x_4, x_5$ denote binary variables corresponding to whether project 1,2,3,4,5 should be scheduled for Tom's company\n",
    "- Let $y_1, y_2, y_3, y_4, y_5$ denote binary variables corresponding to whether project 1,2,3,4,5 should be  subcontracted\n",
    "\n",
    "**Objective and Constraints:**\n",
    "\n",
    "$$\\begin{aligned}\n",
    "\\text{Maximize} && 30000x_1+6000y_1+10000x_2+2000y_2+26000x_3+8000y_3+18000x_4+9000y_4+20000x_5+4500y_5 \\\\\n",
    "\\text{subject to:} \\\\\n",
    "\\text{workers} &&1300x_1+950x_2+1000x_3+1400x_4+1600x_5 \\le10*40*12 \\\\\n",
    "\\text{project1} && x_1+y_1  = 1 \\\\\n",
    "\\text{project2} && x_2+y_2  = 1 \\\\\n",
    "\\text{project3} && x_3+y_3  = 1 \\\\\n",
    "\\text{project4} && x_4+y_4  = 1 \\\\\n",
    "\\text{project5} && x_5+y_5  = 1 \\\\\n",
    "\\text{Binary} && x_1, x_2, x_3, x_4, x_5, y_1, y_2, y_3, y_4, y_5 \\in \\{0,1\\}\n",
    "\\end{aligned}$$"
   ]
  },
  {
   "cell_type": "code",
   "execution_count": 76,
   "metadata": {},
   "outputs": [
    {
     "name": "stdout",
     "output_type": "stream",
     "text": [
      "Optimal profit: 88500.0\n",
      "\t Job 1 for own company.\n",
      "\t Job 2 for own company.\n",
      "\t Job 3 for own company.\n",
      "\t Job 4 for own company.\n",
      "\t Job 5 to subcontract.\n"
     ]
    }
   ],
   "source": [
    "from gurobipy import Model, GRB\n",
    "mod=Model()\n",
    "\n",
    "x=mod.addVars(range(1,6),vtype=GRB.BINARY)\n",
    "y=mod.addVars(range(1,6),vtype=GRB.BINARY)\n",
    "\n",
    "mod.setObjective(30000*x[1]+6000*y[1]+10000*x[2]+2000*y[2]+26000*x[3]+8000*y[3]+18000*x[4]+9000*y[4]+20000*x[5]+4500*y[5],sense=GRB.MAXIMIZE)\n",
    "mod.addConstr(1300*x[1]+950*x[2]+1000*x[3]+1400*x[4]+1600*x[5]<= (10*40*12))\n",
    "mod.addConstr(x[1]+y[1]==1)\n",
    "mod.addConstr(x[2]+y[2]==1)\n",
    "mod.addConstr(x[3]+y[3]==1)\n",
    "mod.addConstr(x[4]+y[4]==1)\n",
    "mod.addConstr(x[5]+y[5]==1)\n",
    "mod.setParam('outputflag',False)\n",
    "mod.optimize()\n",
    "\n",
    "print('Optimal profit:', mod.objval)\n",
    "\n",
    "for option in x:\n",
    "    if x[option].x == 1:   \n",
    "        print(f'\\t Job {option} for own company.')\n",
    "    else:\n",
    "        print(f'\\t Job {option} to subcontract.')"
   ]
  },
  {
   "cell_type": "code",
   "execution_count": 3,
   "metadata": {},
   "outputs": [
    {
     "name": "stdout",
     "output_type": "stream",
     "text": [
      "Optimal profit: 88500.0\n",
      "  Job 1 for own company.\n",
      "  Job 2 for own company.\n",
      "  Job 3 for own company.\n",
      "  Job 4 for own company.\n",
      "  Job 5 to subcontract.\n"
     ]
    }
   ],
   "source": [
    "# Numerical answer"
   ]
  },
  {
   "cell_type": "markdown",
   "metadata": {},
   "source": [
    "## Q5 (Optimal Advertising Plan)\n",
    "\n",
    "SALS Marketing Inc. is developing an advertising campaign for a large consumer goods corporation. SALS has promised a plan that will yield the highest possible “exposure rating,” a measure of the ability to reach the appropriate demographic group and generate demand. The options for advertisements with their respective costs (per unit of advertising) and per-unit exposure ratings are given in the table below (K stands for thousands). \n",
    "\n",
    "| Category | Subcategory | Cost/Unit | Exposure/Unit |\n",
    "|--|--|--|--|\n",
    "| Magazines | Literary | \\$7.5 K | 15 K |\n",
    "| ` ` | News | \\$10 K | 22.5 K |\n",
    "| ` ` | Topical | \\$15 K | 24 K |\n",
    "| Newspapers |  Morning | \\$2 K | 37.5 K |\n",
    "|` `  | Evening | \\$3 K | 75 K |\n",
    "| Television | Morning | \\$20 K | 275 K |\n",
    "| ` ` | Midday | \\$10 K | 180 K |\n",
    "| ` `  | Evening | \\$60 K | 810 K |\n",
    "| Radio | Morning | \\$15 K | 180 K |\n",
    "| ` ` | Midday | \\$15 K | 17 K |\n",
    "| ` ` | Evening | \\$10 K | 16 K |\n",
    "\n",
    "Of course, certain restrictions exist for the advertising campaign. The client corporation has budgeted 800,000 dollars for the campaign, but to restrict overexposure to any particular audience it wants no more than 300,000 dollars put into any one category (Magazine, Newspaper, etc.). Also, to ensure a broad range of exposure, at least 100,000 dollars must be spent in each category. \n",
    "\n",
    "Formulate this problem as a MIP (which you must typeset nicely) and solve using Gurobi to find the optimal advertising plan. For this question, you can only purchase integer number of units. (Hint on typesetting: you can break a long expression into multiple lines using `\\\\` and control alignment using `&`.)"
   ]
  },
  {
   "cell_type": "markdown",
   "metadata": {},
   "source": [
    "**Decision Variables:**\n",
    "\n",
    "- Let $m_1, m_2, m_3$ denote how much units to invest in Magazines. (integer)\n",
    "- Let $n_1, n_2$ denote how much units to invest in Newspapers. (integer)\n",
    "- Let $t_1, t_2, t_3$ denote how much units to invest in Television. (integer)\n",
    "- Let $r_1, r_2, r_3$ denote how much units to invest in Radio. (integer)\n",
    "\n",
    "\n",
    "**Objective and Constraints:**\n",
    "\n",
    "$$\\begin{aligned}\n",
    "\\text{Maximize} && 15m_1+ 22.5m_2+24m_3+37.5n_1+ 75n_2+275t_1+180t_2+810t_3+180r_1+17r_2+16r_3\\\\\n",
    "\\text{subject to:} \\\\\n",
    "\\text{cost} &&7.5m_1+ 10m_2+15m_3+2n_1+ 3n_2+20t_1+10t_2+60t_3+15r_1+15r_2+10r_3 \\le 800 \\\\\n",
    "\\text{Magazines} && 100 \\le 7.5m_1+ 10m_2+15m_3 \\le 300 \\\\\n",
    "\\text{Newspapers} && 100 \\le 2n_1+ 3n_2 \\le 300 \\\\\n",
    "\\text{Television} && 100 \\le 20t_1+10t_2+60t_3 \\le 300 \\\\\n",
    "\\text{Radio} && 100 \\le 15r_1+15r_2+10r_3 \\le 300 \\\\\n",
    "\\text{(Non-negativity)} && m_1, m_2, m_3,n_1, n_2,t_1, t_2, t_3,r_1, r_2, r_3 & \\ge 0 \\\\\n",
    "\\end{aligned}$$"
   ]
  },
  {
   "cell_type": "code",
   "execution_count": 77,
   "metadata": {},
   "outputs": [
    {
     "name": "stdout",
     "output_type": "stream",
     "text": [
      "Maximum exposure rating (in thousands): 14235.0\n",
      "Advertising plan (units):\n",
      "\t Magazine Literary: -0.0\n",
      "\t Magazine News: 10.0\n",
      "\t Magazine Topical: -0.0\n",
      "\t News Morning: 0.0\n",
      "\t News Evening: 98.0\n",
      "\t TV Morning: -0.0\n",
      "\t TV Midday: 30.0\n",
      "\t TV Evening: -0.0\n",
      "\t Radio Morning: 7.0\n",
      "\t Radio Day: -0.0\n",
      "\t Radio Evening: -0.0\n"
     ]
    }
   ],
   "source": [
    "from gurobipy import Model, GRB\n",
    "mod=Model()\n",
    "\n",
    "m=mod.addVars(range(1,4),vtype=GRB.INTEGER,lb=0)\n",
    "n=mod.addVars(range(1,3),vtype=GRB.INTEGER,lb=0)\n",
    "t=mod.addVars(range(1,4),vtype=GRB.INTEGER,lb=0)\n",
    "r=mod.addVars(range(1,4),vtype=GRB.INTEGER,lb=0)\n",
    "mod.setObjective(15*m[1]+22.5*m[2]+24*m[3]+37.5*n[1]+75*n[2]+275*t[1]+180*t[2]+810*t[3]+180*r[1]+17*r[2]+16*r[3],sense=GRB.MAXIMIZE)\n",
    "mod.addConstr(7.5*m[1]+10*m[2]+15*m[3]+2*n[1]+3*n[2]+20*t[1]+10*t[2]+60*t[3]+15*r[1]+15*r[2]+10*r[3]<= 800)\n",
    "mod.addConstr(7.5*m[1]+10*m[2]+15*m[3]>=100)\n",
    "mod.addConstr(7.5*m[1]+10*m[2]+15*m[3]<=300)\n",
    "mod.addConstr(2*n[1]+3*n[2]>=100)\n",
    "mod.addConstr(2*n[1]+3*n[2]<=300)\n",
    "mod.addConstr(20*t[1]+10*t[2]+60*t[3]>=100)\n",
    "mod.addConstr(20*t[1]+10*t[2]+60*t[3]<=300)\n",
    "mod.addConstr(15*r[1]+15*r[2]+10*r[3]>=100)\n",
    "mod.addConstr(15*r[1]+15*r[2]+10*r[3]<=300)\n",
    "\n",
    "mod.setParam('outputflag',False)\n",
    "mod.optimize()\n",
    "\n",
    "print('Maximum exposure rating (in thousands):', mod.objval)\n",
    "print('Advertising plan (units):')\n",
    "print('\\t Magazine Literary:',m[1].x)\n",
    "print('\\t Magazine News:',m[2].x)\n",
    "print('\\t Magazine Topical:',m[3].x)\n",
    "print('\\t News Morning:',n[1].x)\n",
    "print('\\t News Evening:',n[2].x)\n",
    "print('\\t TV Morning:',t[1].x)\n",
    "print('\\t TV Midday:',t[2].x)\n",
    "print('\\t TV Evening:',t[3].x)\n",
    "print('\\t Radio Morning:',r[1].x)\n",
    "print('\\t Radio Day:',r[2].x)\n",
    "print('\\t Radio Evening:',r[3].x)"
   ]
  },
  {
   "cell_type": "code",
   "execution_count": 2,
   "metadata": {},
   "outputs": [
    {
     "name": "stdout",
     "output_type": "stream",
     "text": [
      "Maximum exposure rating (in thousands): 14235.0\n",
      "Advertising plan (units):\n",
      "\t Magazine Literary : -0\n",
      "\t Magazine News : 10\n",
      "\t Magazine Topical : -0\n",
      "\t News Morning : -0\n",
      "\t News Evening : 98\n",
      "\t TV Morning : -0\n",
      "\t TV Midday : 30\n",
      "\t TV Evening : -0\n",
      "\t Radio Morning : 7\n",
      "\t Radio Day : -0\n",
      "\t Radio Evening : -0\n"
     ]
    }
   ],
   "source": [
    "# Numerical answer\n"
   ]
  }
 ],
 "metadata": {
  "kernelspec": {
   "display_name": "Python 3",
   "language": "python",
   "name": "python3"
  },
  "language_info": {
   "codemirror_mode": {
    "name": "ipython",
    "version": 3
   },
   "file_extension": ".py",
   "mimetype": "text/x-python",
   "name": "python",
   "nbconvert_exporter": "python",
   "pygments_lexer": "ipython3",
   "version": "3.7.1"
  }
 },
 "nbformat": 4,
 "nbformat_minor": 2
}
