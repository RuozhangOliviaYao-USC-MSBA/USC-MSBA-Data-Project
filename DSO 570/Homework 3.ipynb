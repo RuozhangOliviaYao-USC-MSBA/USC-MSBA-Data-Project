{
 "cells": [
  {
   "cell_type": "markdown",
   "metadata": {},
   "source": [
    "# Homework 3 (Due 1/29 before class)\n",
    "\n",
    "## Name: Ruozhang Yao\n",
    "\n",
    "\n",
    "## Q1. PY4E Chapter 5 Exercise 1\n",
    "\n",
    "Write a program which repeatedly reads numbers until the\n",
    "user enters \"done\". Once \"done\" is entered, print out the total, count,\n",
    "and average of the numbers. If the user enters anything other than a\n",
    "number, detect their mistake using try and except and print an error\n",
    "message and skip to the next number. See sample run below.\n",
    "\n",
    "```\n",
    "Enter a number: 4\n",
    "Enter a number: 5\n",
    "Enter a number: bad data\n",
    "Invalid input\n",
    "Enter a number: 7\n",
    "Enter a number: done\n",
    "16 3 5.333333333333333\n",
    "```\n",
    "\n",
    "Write your code in the code cell below."
   ]
  },
  {
   "cell_type": "code",
   "execution_count": null,
   "metadata": {},
   "outputs": [],
   "source": [
    "sum = 0\n",
    "count = 0\n",
    "average = 0\n",
    "\n",
    "while True:\n",
    "    try:\n",
    "        valueInput = input(\"Enter a number: \")\n",
    "        if valueInput == \"done\": \n",
    "            break\n",
    "        value = float(valueInput)\n",
    "        sum = value + sum\n",
    "        count = count + 1\n",
    "        average = sum / count\n",
    "    except:\n",
    "        print(\"Invalid input\")\n",
    "if int(sum) == sum:\n",
    "    sum_final = int(sum)\n",
    "else:\n",
    "    sum_final = sum\n",
    "print (sum_final, count, average)"
   ]
  },
  {
   "cell_type": "markdown",
   "metadata": {},
   "source": [
    "## Q2. BMI Calculator\n",
    "\n",
    "Write a program which asks users to input their weight (in lbs) and height (in inches), and compute their body mass index (BMI), which is defind as $BMI=\\frac{W}{H^2}$, where $W$ is their weight converted to kg, and $H$ is their height converted to m. (Assume 1 kg=2.205 lbs, and 1 m = 39.37 inches.) Finally, classify their BMI according to the following chart. \n",
    "\n",
    "|Classification | BMI ($kg/m^2$) |\n",
    "|--|--|\n",
    "|Underweight: | <18.5 |\n",
    "|Normal: | 18.5 to 25 (>=18.5 but <25) |\n",
    "|Overweight: | 25 to 30 (>=25 but <30) |\n",
    "|Obese: | >=30 |\n",
    "\n",
    "The program should ensure that the weight and height the user inputs are positive numbers. If the user does not input a number, then the program should print the message `\"Invalid. Input must be a number.\"` If the user inputs a negative number or zero, the program should print the message `\"Invalid. Input must be positive.\"` See sample run below.\n",
    "\n",
    "```\n",
    "Please input your weight (in lbs): thirty\n",
    "Invalid. Input must be a number.\n",
    "Please input your weight (in lbs): 143\n",
    "Please input your height (in inches): 5'11''\n",
    "Invalid. Input must be a number.\n",
    "Please input your height (in inches): 71\n",
    "According to the above chart, your BMI is 19.94 which is normal.\n",
    "```"
   ]
  },
  {
   "cell_type": "code",
   "execution_count": null,
   "metadata": {},
   "outputs": [],
   "source": [
    "def BMICal(w,h):\n",
    "    w_kg = w / 2.205\n",
    "    h_m = h / 39.37\n",
    "    BMI = w_kg/(h_m ** 2)\n",
    "    if BMI >= 30:\n",
    "        c = 'obese.'\n",
    "    elif BMI >= 25:\n",
    "        c = 'overweight.'\n",
    "    elif BMI >= 18.5:\n",
    "        c = 'normal.'\n",
    "    else:\n",
    "        c = 'underweight.'\n",
    "    return round(BMI,2),c"
   ]
  },
  {
   "cell_type": "code",
   "execution_count": null,
   "metadata": {},
   "outputs": [],
   "source": [
    "while True:\n",
    "    try:\n",
    "        weight=float(input('Please input your weight (in lbs): '))\n",
    "        height=float(input('Please input your height (in inches): '))\n",
    "        success=True\n",
    "    except:\n",
    "            print('Invalid. Input must be a number.')\n",
    "            success=False\n",
    "    if success:\n",
    "        if weight<= 0 or height <= 0:\n",
    "            print('Invalid. Input must be positive.')\n",
    "        else:\n",
    "            BMI,c = BMICal(weight,height)\n",
    "            print('According to the above chart, your BMI is', BMI, 'which is', c)\n",
    "            break"
   ]
  },
  {
   "cell_type": "markdown",
   "metadata": {},
   "source": [
    "## Q3: Batch Automation of Payroll Computations\n",
    "Write a function `calculateAllWages` which takes three input arguments:\n",
    "\n",
    "- `filename`: the name of a CSV file in which the first column is the name of each employee and the second column is the hours worked that week by the employee. (See the attached file `\"hours_worked.csv\"` for a sample.)\n",
    "- `base` (default 10.0): the base hourly rate for hours below 40.\n",
    "- `bonus` (default 0.5): each hour above 40 obtains a pay of `base*(1+bonus)`.\n",
    "\n",
    "and print to screen the pay for each employee. At the end, the function should print the total and average pay. You may assume that the input file is properly formatted. See the sample output below (this assumes that the attached `hours_worked.csv` is saved in the current directory.)"
   ]
  },
  {
   "cell_type": "code",
   "execution_count": 1,
   "metadata": {},
   "outputs": [],
   "source": [
    "import pandas as pd\n",
    "def calculateAllWages(filename, base = 10.0, bonus = 0.5):\n",
    "    df = pd.read_csv(filename, header = None)\n",
    "    i = 0\n",
    "    total = 0\n",
    "    for employee in df[0]:\n",
    "        if df[1][i] <= 40:\n",
    "            pay = base * df[1][i]\n",
    "        else:\n",
    "            pay = 40 * base + (df[1][i] - 40) * base * (1 + bonus)\n",
    "        print(employee, 'worked', df[1][i], 'hours. Pay:', pay)\n",
    "        total += pay\n",
    "        i += 1\n",
    "    print('Total pay is', total)\n",
    "    print('Average pay is', total/i)"
   ]
  },
  {
   "cell_type": "code",
   "execution_count": 3,
   "metadata": {},
   "outputs": [
    {
     "name": "stdout",
     "output_type": "stream",
     "text": [
      "Alice worked 40.0 hours. Pay: 400.0\n",
      "Bob worked 76.5 hours. Pay: 947.5\n",
      "Charlie worked 66.5 hours. Pay: 797.5\n",
      "Derek worked 47.0 hours. Pay: 505.0\n",
      "Emma worked 21.5 hours. Pay: 215.0\n",
      "Frank worked 40.0 hours. Pay: 400.0\n",
      "Gatsby worked 40.0 hours. Pay: 400.0\n",
      "Hanna worked 16.0 hours. Pay: 160.0\n",
      "Irvin worked 16.0 hours. Pay: 160.0\n",
      "Jack worked 40.0 hours. Pay: 400.0\n",
      "Total pay is 4385.0\n",
      "Average pay is 438.5\n"
     ]
    }
   ],
   "source": [
    "calculateAllWages('hours_worked.csv')"
   ]
  },
  {
   "cell_type": "code",
   "execution_count": 3,
   "metadata": {},
   "outputs": [
    {
     "name": "stdout",
     "output_type": "stream",
     "text": [
      "Alice worked 40.0 hours. Pay: 400.0\n",
      "Bob worked 76.5 hours. Pay: 947.5\n",
      "Charlie worked 66.5 hours. Pay: 797.5\n",
      "Derek worked 47.0 hours. Pay: 505.0\n",
      "Emma worked 21.5 hours. Pay: 215.0\n",
      "Frank worked 40.0 hours. Pay: 400.0\n",
      "Gatsby worked 40.0 hours. Pay: 400.0\n",
      "Hanna worked 16.0 hours. Pay: 160.0\n",
      "Irvin worked 16.0 hours. Pay: 160.0\n",
      "Jack worked 40.0 hours. Pay: 400.0\n",
      "Total pay is 4385.0\n",
      "Average pay is 438.5\n"
     ]
    }
   ],
   "source": [
    "# Sample output"
   ]
  },
  {
   "cell_type": "markdown",
   "metadata": {},
   "source": [
    "## Q4. Optimal Stocking Level\n",
    "\n",
    "Write a function named `optBaseStock` with four input arguments:\n",
    "\n",
    "- `levelList`: a list of possible stocking levels to optimize over (which can be a `range` instead of a `list`).\n",
    "- `demandList`: a list of demand scenarios. \n",
    "- `underage`: the unit cost of having too little inventory to meet demand.\n",
    "- `overage`: the unit cost of having too much inventory.\n",
    "\n",
    "The function should iterate through the possible stocking levels in `levelList`, and print one line giving the average inventory cost for that stocking level. For a given stocking level, the average inventory cost is defined as the average over all demand scenarios of the total underage cost plus the total overage cost. \n",
    "\n",
    "For example, if the stocking level is 10, and the demand scenarios are `[6,12,14]`, and the parameters `underage=9`, `overrage=5`. Then the inventory cost for the scenario `demand=6` is $(10-6)\\times 5=20$, because the inventory level is 4 units too high. (The overage cost of 5/unit is applied when inventory is too high). The inventory cost for the scenario `demand=12` is $(12-10)\\times 9=18$, because the inventory level is 2 units too low. (The underage cost of 9/unit is applied when the inventory is too low.) The inventory cost for the scenario `demand=14` is $(14-10)\\times 9=36$, because the inventory level is 4 units too low. The average inventory cost for stocking level 10 is $(20+18+36)/3=74/3\\approx 24.67$.  \n",
    "\n",
    "The function should return two objects. The first object is the stocking level that achieves the minimal average inventory cost (if there is a tie, return the smallest stocking level yielding the minimal cost). The second object is a dictionary mapping each inventory level to the average inventory cost for that stocking level. \n",
    "\n",
    "The following code illustrates the use of the function (after you complete the function). (Hint: it may be easiest to write another function which calculates the average inventory cost given a particular stocking level, so that `optBaseStock` can simply call this other function to compute the average inventory cost for each stocking level.)"
   ]
  },
  {
   "cell_type": "code",
   "execution_count": 18,
   "metadata": {},
   "outputs": [],
   "source": [
    "# Write your function in this cell\n",
    "def costCal(level,demands,underage,overage):\n",
    "    count = len(demands)\n",
    "    total = 0\n",
    "    average = 0\n",
    "    for demand in demands:\n",
    "        if level > demand:\n",
    "            cost = (level-demand) * overage\n",
    "            total += cost  \n",
    "        else:\n",
    "            cost = (demand-level) * underage \n",
    "            total += cost  \n",
    "    average = round(total/count,2)\n",
    "    return average"
   ]
  },
  {
   "cell_type": "code",
   "execution_count": 19,
   "metadata": {},
   "outputs": [],
   "source": [
    "def optBaseStock(levelList,demandList,underage,overage):\n",
    "    bestLevel = 0 \n",
    "    bestCost = 1e100\n",
    "    dic = {}\n",
    "    for level in levelList:\n",
    "        cost = costCal(level,demandList,underage,overage)\n",
    "        dic[level] = cost\n",
    "        if cost < bestCost:\n",
    "            bestCost = cost\n",
    "            bestLevel = level\n",
    "    return bestLevel, dic"
   ]
  },
  {
   "cell_type": "code",
   "execution_count": 23,
   "metadata": {},
   "outputs": [
    {
     "data": {
      "image/png": "[encoded data removed]",
      "text/plain": [
       "<Figure size 432x288 with 1 Axes>"
      ]
     },
     "metadata": {
      "needs_background": "light"
     },
     "output_type": "display_data"
    }
   ],
   "source": [
    "demandList=[10,18,5,20,16,30,15,3,5,10]\n",
    "levelList=range(0,30,5)\n",
    "underage=10\n",
    "overage=3\n",
    "bestLevel,cost=optBaseStock(levelList,demandList,underage,overage)\n",
    "\n",
    "import matplotlib.pyplot as plt\n",
    "levelList=sorted(levelList)\n",
    "costList=[cost[level] for level in levelList]\n",
    "plt.plot(levelList,costList)\n",
    "plt.plot([bestLevel],[cost[bestLevel]],'ro')\n",
    "plt.title('Optimal stocking level is '+str(bestLevel)+' with cost '+str(round(cost[bestLevel],2)))\n",
    "plt.xlabel('Stocking level')\n",
    "plt.ylabel('Average inventory cost')\n",
    "plt.ylim(bottom=0)\n",
    "plt.show()"
   ]
  },
  {
   "cell_type": "code",
   "execution_count": 10,
   "metadata": {},
   "outputs": [
    {
     "data": {
      "image/png": "[encoded data removed]",
      "text/plain": [
       "<Figure size 432x288 with 1 Axes>"
      ]
     },
     "metadata": {
      "needs_background": "light"
     },
     "output_type": "display_data"
    }
   ],
   "source": [
    "demandList=[10,18,5,20,16,30,15,3,5,10]\n",
    "levelList=range(0,30,5)\n",
    "underage=10\n",
    "overage=3\n",
    "bestLevel,cost=optBaseStock(levelList,demandList,underage,overage)\n",
    "\n",
    "import matplotlib.pyplot as plt\n",
    "levelList=sorted(levelList)\n",
    "costList=[cost[level] for level in levelList]\n",
    "plt.plot(levelList,costList)\n",
    "plt.plot([bestLevel],[cost[bestLevel]],'ro')\n",
    "plt.title('Optimal stocking level is '+str(bestLevel)+' with cost '+str(round(cost[bestLevel],2)))\n",
    "plt.xlabel('Stocking level')\n",
    "plt.ylabel('Average inventory cost')\n",
    "plt.ylim(bottom=0)\n",
    "plt.show()"
   ]
  }
 ],
 "metadata": {
  "kernelspec": {
   "display_name": "Python 3",
   "language": "python",
   "name": "python3"
  },
  "language_info": {
   "codemirror_mode": {
    "name": "ipython",
    "version": 3
   },
   "file_extension": ".py",
   "mimetype": "text/x-python",
   "name": "python",
   "nbconvert_exporter": "python",
   "pygments_lexer": "ipython3",
   "version": "3.7.1"
  }
 },
 "nbformat": 4,
 "nbformat_minor": 2
}
