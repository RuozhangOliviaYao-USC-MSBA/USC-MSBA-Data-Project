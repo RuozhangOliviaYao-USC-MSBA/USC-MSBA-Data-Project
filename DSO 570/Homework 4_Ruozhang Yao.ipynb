{
 "cells": [
  {
   "cell_type": "markdown",
   "metadata": {},
   "source": [
    "# Homework 4 (Due before class on 2/5)\n",
    "\n",
    "## Name: Ruozhang Yao\n",
    "\n",
    "The problems in this homework do not require complex commands, but require you to exercise algorithmic thinking. It is recommended that you follow the four step method (Describe, Decompose, Translate, and Combine) when solving the problems, and to build up the solution incrementally instead of writing a function to start off. For examples of how to do this, refer to the Handout Solutions (posted on Blackboard) for session 6. \n",
    "\n",
    "## Q1. Estimating Time of Selling Out\n",
    "\n",
    "Suppose that there are limited number of tickets to an event and your goal is to estimate how many weeks before the tickets will be sold out. \n",
    "\n",
    "Write a function `sellOutTime` with two input arguments:\n",
    "\n",
    "- `demand`: a list of positive integers, representing the forecasted demand in each week.\n",
    "- `inventory`: an integer denoting the initial supply of tickets.\n",
    "\n",
    "The function should return the week in which tickets will sell out. For example, if `demand=[50,80,89]` (representing a demand of 50 in week 1, 80 in week 2, and 90 in week 3), then \n",
    "\n",
    "- if initial inventory is 10, the tickets will sell out in week 1. (Function returns 1.)\n",
    "- if initial inventory is 50, the function should still return 1.\n",
    "- if initial inventory is 60, function should return 2. (Because supply lasts into week 2.)\n",
    "- if initial inventory is 300, function should return 4. (Supply lasts even after the 3 weeks are over.)"
   ]
  },
  {
   "cell_type": "code",
   "execution_count": 1,
   "metadata": {},
   "outputs": [
    {
     "name": "stdout",
     "output_type": "stream",
     "text": [
      "With initial inventory 10  supply will last until week 1\n",
      "With initial inventory 50  supply will last until week 1\n",
      "With initial inventory 60  supply will last until week 2\n",
      "With initial inventory 130  supply will last until week 2\n",
      "With initial inventory 220  supply will last until week 4\n",
      "With initial inventory 500  supply will last until week 6\n",
      "With initial inventory 1000  supply will last until week 9\n"
     ]
    }
   ],
   "source": [
    "import pandas as pd\n",
    "import numpy as np\n",
    "\n",
    "demand=[50,80,89,100,120,140,100,80]\n",
    "import pandas as pd\n",
    "def sellOutTime(demand,inventory):\n",
    "    d = np.cumsum(demand)\n",
    "    while(True):\n",
    "        try:\n",
    "            month = np.where(d>=inventory)[0][0] + 1\n",
    "            return month\n",
    "        except:\n",
    "            month = len(demand)+1\n",
    "            return month\n",
    "           \n",
    "for inventory in [10,50,60,130,220,500,1000]:\n",
    "    print('With initial inventory',inventory,' supply will last until week',sellOutTime(demand,inventory))"
   ]
  },
  {
   "cell_type": "markdown",
   "metadata": {},
   "source": [
    "## Q2. Estimating Revenue under Dynamic Pricing\n",
    "\n",
    "In applications such as airline ticketing, capacity is limited and one pricing strategy is to increase the price when only a few number of tickets are left. In this exercise, the price is initially `price1` and increases to `price2` when a threshold number of items are left. You goal is to estimate the total revenue given a forecast of willingness to pay by customers. \n",
    "\n",
    "Write a function called `revenue` with five input arguments:\n",
    "\n",
    "- `values`: a list of maximum willingness to pay, similar to Case 7a in session 5.\n",
    "- `price1`: the initial price of the product.\n",
    "- `price2`: the updated price when only a few items are left.\n",
    "- `capacity`: the total number of products that can be sold.\n",
    "- `threshold`: when only this many products are left, the price increases from `price1` to `price2`.\n",
    "\n",
    "The function should return the total revenue from the given pricing policy. You should assume that customers in the list `values` come sequentially. For example, given the input `values=[10,20,25,30,40]`, `price1=20`, `price2=30`, `capacity=2`, `threshold=1`, the function should return 50. This is because the first customer does not buy, the second customer buys, at which point price increases to 30 since only one item is left. The third customer does not buy. The final customer buys at the increased price of 30. The last customer does not buy since no more items are left."
   ]
  },
  {
   "cell_type": "code",
   "execution_count": 2,
   "metadata": {},
   "outputs": [
    {
     "ename": "NameError",
     "evalue": "name 'revenue' is not defined",
     "output_type": "error",
     "traceback": [
      "\u001b[0;31m---------------------------------------------------------------------------\u001b[0m",
      "\u001b[0;31mNameError\u001b[0m                                 Traceback (most recent call last)",
      "\u001b[0;32m<ipython-input-2-49e3f4ad0ee0>\u001b[0m in \u001b[0;36m<module>\u001b[0;34m\u001b[0m\n\u001b[0;32m----> 1\u001b[0;31m \u001b[0mrevenue\u001b[0m\u001b[0;34m(\u001b[0m\u001b[0mvalues\u001b[0m\u001b[0;34m,\u001b[0m\u001b[0mprice1\u001b[0m\u001b[0;34m,\u001b[0m\u001b[0mprice2\u001b[0m\u001b[0;34m,\u001b[0m\u001b[0mcapacity\u001b[0m\u001b[0;34m,\u001b[0m\u001b[0mthreshold\u001b[0m\u001b[0;34m)\u001b[0m\u001b[0;34m\u001b[0m\u001b[0;34m\u001b[0m\u001b[0m\n\u001b[0m",
      "\u001b[0;31mNameError\u001b[0m: name 'revenue' is not defined"
     ]
    }
   ],
   "source": [
    "revenue(values,price1,price2,capacity,threshold)"
   ]
  },
  {
   "cell_type": "code",
   "execution_count": null,
   "metadata": {},
   "outputs": [],
   "source": [
    "values=[10,20,25,30,40]\n",
    "price1=20\n",
    "price2=30\n",
    "capacity=2\n",
    "threshold=1\n",
    "\n",
    "buy = []\n",
    "for i in values:\n",
    "    if i>= price1:\n",
    "        capacity = capacity - 1 \n",
    "        buy.append(i)\n",
    "        \n",
    "values=[10,20,25,30,40]\n",
    "price1=20\n",
    "i = 0\n",
    "while capacity > threshold:\n",
    "    if price1 <= list[i]:\n",
    "        capacity = capacity - 1 \n",
    "        buy.append(i)\n",
    "        continue\n",
    "    print(buy)\n",
    "    "
   ]
  },
  {
   "cell_type": "code",
   "execution_count": 59,
   "metadata": {},
   "outputs": [
    {
     "name": "stdout",
     "output_type": "stream",
     "text": [
      "50\n"
     ]
    }
   ],
   "source": [
    "values=[10,20,25,30,40]\n",
    "price1=20\n",
    "price2=30\n",
    "capacity=2\n",
    "threshold=1\n",
    "buy1 = 0\n",
    "buy2 = 0\n",
    "values_new = []\n",
    "count = 0\n",
    "for i in values:\n",
    "    if capacity == threshold:\n",
    "        break \n",
    "    if i>= price1:\n",
    "        capacity = capacity-1 \n",
    "        buy.append(i)\n",
    "        buy1 += 1\n",
    "        count += 1\n",
    "        values_new = values[count:]\n",
    "    else:\n",
    "        count += 1\n",
    "        values_new = values[count:]\n",
    "    \n",
    "for i in values_new:\n",
    "    if threshold ==0:\n",
    "        break\n",
    "    if i>=price2:\n",
    "        threshold=threshold-1\n",
    "        buy2 += 1 \n",
    "    else:\n",
    "        pass\n",
    "revenue = buy1 * price1 + buy2 * price2\n",
    "print(revenue)"
   ]
  },
  {
   "cell_type": "code",
   "execution_count": null,
   "metadata": {},
   "outputs": [],
   "source": []
  },
  {
   "cell_type": "code",
   "execution_count": null,
   "metadata": {},
   "outputs": [],
   "source": []
  },
  {
   "cell_type": "code",
   "execution_count": null,
   "metadata": {},
   "outputs": [],
   "source": []
  },
  {
   "cell_type": "code",
   "execution_count": null,
   "metadata": {},
   "outputs": [],
   "source": [
    "values=[10,20,25,30,40]\n",
    "price1=20\n",
    "price2=30\n",
    "capacity=2\n",
    "threshold=1\n",
    "revenue(values,price1,price2,capacity,threshold)"
   ]
  },
  {
   "cell_type": "code",
   "execution_count": null,
   "metadata": {},
   "outputs": [],
   "source": [
    "values=[10,20,25,30,100,40,200,50,90]\n",
    "price1=20\n",
    "price2=30\n",
    "capacity=5\n",
    "threshold=1\n",
    "revenue(values,price1,price2,capacity,threshold)"
   ]
  },
  {
   "cell_type": "markdown",
   "metadata": {},
   "source": [
    "## Q3. Demand Estimation with N substitutable products\n",
    "\n",
    "This exercise generalizes Case 9 to $n$ products, where $n$ is any positive integer.\n",
    "\n",
    "Write a function called `demand` with two input arguments:\n",
    "\n",
    "- `prices`: a list of $n$ prices, one for each product. \n",
    "- `values`: a list in which each element represents a customer and is a list of length $n$, which corresponds to the customer's valuation for each of the $n$ products.\n",
    "\n",
    "The function should return a list of length $n$ representing the number of each product sold. You should assume that each customer:\n",
    "\n",
    "- Does not purchase anything if his/her valuation for each product is strictly less than its price.\n",
    "- Otherwise, purchase the product in which the difference between his/her valuation and the price is the largest. When there is a tie, the customer will purchase the product with the smaller index. \n",
    "\n",
    "For example, if `prices=[10,8,12]`, then\n",
    "\n",
    "- A customer with valuations `[9,7,11]` purchases nothing.\n",
    "- A customer with valuations `[10,8,12]` purchases product 0.\n",
    "- A customer with valuations `[9,8,12]` purchases product 1.\n",
    "- A customer with valuations `[9,8,13]` purchases product 2."
   ]
  },
  {
   "cell_type": "code",
   "execution_count": null,
   "metadata": {},
   "outputs": [],
   "source": [
    "prices=[10,8,12]\n",
    "values=[[9,7,11],[10,8,12],[9,8,12],[9,8,13]]\n",
    "ans=demand(prices,values)\n",
    "for i in range(len(prices)):\n",
    "    print('Demand for product',i,':',ans[i])"
   ]
  },
  {
   "cell_type": "code",
   "execution_count": null,
   "metadata": {},
   "outputs": [],
   "source": [
    "prices=[20,15,30]\n",
    "values=[[30,30,20],[40,10,15],[18,13,29],[40,30,50],[10,30,50],[10,10,10],[20,15,30]]\n",
    "ans=demand(prices,values)\n",
    "for i in range(len(prices)):\n",
    "    print('Demand for product',i,':',ans[i])"
   ]
  },
  {
   "cell_type": "markdown",
   "metadata": {},
   "source": [
    "## Q4. Simulating Availabilities of Hospital Beds\n",
    "\n",
    "One challenge in health care operations is to forecast the number of hospital beds that are available at a given time, since patients admitted in the past may stay for several days and the number of beds are limited. If no more beds are available, then incoming patients may need to be turned away.\n",
    "\n",
    "Write a function called `admissionSimulation` with three input arguments:\n",
    "\n",
    "- `demand`: a list of positive integers representing the number of incoming patients desiring a hospital bed in each day. (The first number corresponds to day 0, the second number to day 1, and so on.)\n",
    "- `beds`: a positive integer representing the total number of hospital beds available.\n",
    "- `stay`: a positive integer representing the number of days each admitted patient will stay. If `stay=1`, then every admitted patient leaves before any incoming patients arrive the next day. If `stay=2`, then each patient admitted on day $t$ will occupy a bed also for day $t+1$, and only leave before incoming patients arrive on day $t+2$.\n",
    "\n",
    "The function should return a list `admissionRecord`, corresponding to the number of incoming patients admitted on each day. \n",
    "\n"
   ]
  },
  {
   "cell_type": "code",
   "execution_count": null,
   "metadata": {},
   "outputs": [],
   "source": [
    "demand=[1,2,1,0,2,3]\n",
    "beds=2\n",
    "stay=2\n",
    "admissionRecord=admissionSimulation(demand,beds,stay)\n",
    "for i in range(len(demand)):\n",
    "    print('On day',i,'demand is',demand[i],'and',admissionRecord[i],'patients were admitted.')"
   ]
  },
  {
   "cell_type": "code",
   "execution_count": null,
   "metadata": {},
   "outputs": [],
   "source": [
    "demand=[5,8,6,8,4,4,8,6,1]\n",
    "beds=7\n",
    "stay=3\n",
    "admissionRecord=admissionSimulation(demand,beds,stay)\n",
    "for i in range(len(demand)):\n",
    "    print('On day',i,'demand is',demand[i],'and',admissionRecord[i],'patients were admitted.')"
   ]
  }
 ],
 "metadata": {
  "kernelspec": {
   "display_name": "Python 3",
   "language": "python",
   "name": "python3"
  },
  "language_info": {
   "codemirror_mode": {
    "name": "ipython",
    "version": 3
   },
   "file_extension": ".py",
   "mimetype": "text/x-python",
   "name": "python",
   "nbconvert_exporter": "python",
   "pygments_lexer": "ipython3",
   "version": "3.7.1"
  }
 },
 "nbformat": 4,
 "nbformat_minor": 2
}
