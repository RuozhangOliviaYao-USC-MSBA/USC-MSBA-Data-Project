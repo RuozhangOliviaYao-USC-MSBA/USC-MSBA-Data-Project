{
 "cells": [
  {
   "cell_type": "markdown",
   "metadata": {},
   "source": [
    "# Homework 2 (Due before class on 1/22)\n",
    "\n",
    "**Name:** Ruozhang Yao\n",
    "\n",
    "## Q1. PY4E Chapter 2 Exercise 3\n",
    "\n",
    "Write a program to prompt the user for hours and rate per\n",
    "hour to compute gross pay.\n",
    "\n",
    "```\n",
    "Enter Hours: 35\n",
    "Enter Rate: 2.75\n",
    "Pay: 96.25```\n",
    "\n",
    "Write your code in the code cell below"
   ]
  },
  {
   "cell_type": "code",
   "execution_count": 2,
   "metadata": {
    "scrolled": true
   },
   "outputs": [
    {
     "name": "stdout",
     "output_type": "stream",
     "text": [
      "Enter Hours: 35\n",
      "Enter Rate: 2.75\n",
      "Pay: 96.25\n"
     ]
    }
   ],
   "source": [
    "q=int(input('Enter Hours: '))\n",
    "p=float(input('Enter Rate: '))\n",
    "print('Pay:',p*q)"
   ]
  },
  {
   "cell_type": "markdown",
   "metadata": {},
   "source": [
    "## Q2. PY4E Chapter 2 Exercise 4\n",
    "\n",
    "Assume that we execute the following assignment statements:\n",
    "```\n",
    "width = 17\n",
    "height = 12.0\n",
    "```\n",
    "\n",
    "For each of the following expressions, write the value of the expression and the\n",
    "type (of the value of the expression).\n",
    "1. width//2\n",
    "2. width/2.0\n",
    "3. height/3\n",
    "4. 1 + 2 * 5\n",
    "\n",
    "Type your answer in this markdown cell, under this line: (You can create a new code cell to check your answers.)\n",
    "1. 8, type: integer\n",
    "2. 8.5, type: float\n",
    "3. 4.0, type: float\n",
    "4. 11, type: integer\n",
    "\n",
    "\n",
    "## Q3. PY4E Chapter 2 Exercise 5\n",
    "\n",
    "Write a program which prompts the user for a Celsius tem-\n",
    "perature, convert the temperature to Fahrenheit, and print out the\n",
    "converted temperature.\n",
    "\n",
    "Write your code in the code cell below.\n"
   ]
  },
  {
   "cell_type": "code",
   "execution_count": null,
   "metadata": {},
   "outputs": [],
   "source": [
    "c = float(input('Celsius temperature: '))\n",
    "f = 1.8 * c + 32\n",
    "print('Fahrenheit temperature:',f)"
   ]
  },
  {
   "cell_type": "markdown",
   "metadata": {},
   "source": [
    "Q2 Code"
   ]
  },
  {
   "cell_type": "code",
   "execution_count": 5,
   "metadata": {},
   "outputs": [
    {
     "name": "stdout",
     "output_type": "stream",
     "text": [
      "8 8.5 4.0 11\n"
     ]
    },
    {
     "data": {
      "text/plain": [
       "float"
      ]
     },
     "execution_count": 5,
     "metadata": {},
     "output_type": "execute_result"
    }
   ],
   "source": [
    "width = 17\n",
    "height = 12.0\n",
    "a = width//2\n",
    "b = width/2.0\n",
    "c = height/3\n",
    "d = 1 + 2 * 5\n",
    "print(a,b,c,d)\n",
    "type(a)\n",
    "type(b)"
   ]
  },
  {
   "cell_type": "markdown",
   "metadata": {},
   "source": [
    "## Q4. PY4E Chapter 3 Exercise 1\n",
    "\n",
    "Rewrite your pay computation (from Q1 above) to give the employee 1.5 times the hourly rate for hours worked above 40 hours.\n",
    "\n",
    "```\n",
    "Enter Hours: 45\n",
    "Enter Rate: 10\n",
    "Pay: 475.0\n",
    "```\n",
    "\n",
    "Write your code in the code cell below."
   ]
  },
  {
   "cell_type": "code",
   "execution_count": null,
   "metadata": {},
   "outputs": [],
   "source": [
    "hours=int(input('Enter Hours: '))\n",
    "rate=float(input('Enter Rate: '))\n",
    "\n",
    "if hours<=40:\n",
    "    pay=hours*rate\n",
    "else:\n",
    "    pay=40*rate+(hours-40)*rate*1.5\n",
    "print('Pay:',pay)"
   ]
  },
  {
   "cell_type": "markdown",
   "metadata": {},
   "source": [
    "## Q5. PY4E Chapter 3 Exercise 2\n",
    "Rewrite your pay program (in Q4) using try and except so that your\n",
    "program handles non-numeric input gracefully by printing a message\n",
    "and exiting the program. The following shows two executions of the\n",
    "program:\n",
    "\n",
    "```\n",
    "Enter Hours: 20\n",
    "Enter Rate: nine\n",
    "Error, please enter numeric input\n",
    "\n",
    "Enter Hours: forty\n",
    "Error, please enter numeric input\n",
    "```\n",
    "\n",
    "Write your code in the code cell below."
   ]
  },
  {
   "cell_type": "code",
   "execution_count": 8,
   "metadata": {},
   "outputs": [
    {
     "name": "stdout",
     "output_type": "stream",
     "text": [
      "Enter Hours: 9\n",
      "Enter Rate: nine\n",
      "Error, please enter numeric input\n"
     ]
    }
   ],
   "source": [
    "hours = input('Enter Hours: ')\n",
    "try:\n",
    "    hours = int(hours)\n",
    "    try:\n",
    "        rate = input('Enter Rate: ')\n",
    "        rate = float(rate)\n",
    "        if hours <= 40:\n",
    "            pay=hours*rate\n",
    "        else:\n",
    "            pay=40*rate+(hours-40)*rate*1.5\n",
    "        print('Pay: ', pay)\n",
    "    except:\n",
    "        print('Error, please enter numeric input')\n",
    "except:\n",
    "    print('Error, please enter numeric input')"
   ]
  },
  {
   "cell_type": "markdown",
   "metadata": {},
   "source": [
    "## Q6. PY4E Chapter 3 Exercise 3\n",
    "\n",
    "Write a program to prompt for a score between 0.0 and\n",
    "1.0. If the score is out of range, print an error message. If the score is\n",
    "between 0.0 and 1.0, print a grade using the following table:\n",
    "\n",
    "|Score | Grade |\n",
    "| -- | -- |\n",
    "|>= 0.9 | A  |\n",
    "|>= 0.8 | B |\n",
    "|>= 0.7 | C |\n",
    "| >= 0.6 | D |\n",
    "| < 0.6 | F |\n",
    "\n",
    "```\n",
    "Enter score: 0.95\n",
    "A\n",
    "Enter score: perfect\n",
    "Bad score\n",
    "Enter score: 10.0\n",
    "Bad score\n",
    "Enter score: 0.75\n",
    "C\n",
    "Enter score: 0.5\n",
    "F\n",
    "```\n",
    "\n",
    "Run the program repeatedly as shown above to test the various different values for\n",
    "input.\n",
    "\n",
    "Write your code in the code cell below."
   ]
  },
  {
   "cell_type": "code",
   "execution_count": 10,
   "metadata": {},
   "outputs": [
    {
     "name": "stdout",
     "output_type": "stream",
     "text": [
      "Enter score:0.5\n",
      "F\n"
     ]
    }
   ],
   "source": [
    "try:\n",
    "    score = float(input(\"Enter score:\"))\n",
    "    if score > 1.0:\n",
    "        print('Bad Score')\n",
    "    elif score >= 0.9:\n",
    "        print('A')\n",
    "    elif score >= 0.8:\n",
    "        print('B')\n",
    "    elif score >= 0.7:\n",
    "        print('C')\n",
    "    elif score >= 0.6:\n",
    "        print('D')\n",
    "    elif score >= 0:\n",
    "        print('F')\n",
    "    else:\n",
    "        print('Bad Score')\n",
    "except:\n",
    "    print('Bad score')"
   ]
  },
  {
   "cell_type": "markdown",
   "metadata": {},
   "source": [
    "## Q7. PY4E Chapter 4 Exercise 6\n",
    "Rewrite your pay computation in Q5 by creating a function called `computepay` which takes two parameters\n",
    "(`hours` and `rate`).\n",
    "\n",
    "Write your code in the code cell below."
   ]
  },
  {
   "cell_type": "code",
   "execution_count": 13,
   "metadata": {},
   "outputs": [
    {
     "name": "stdout",
     "output_type": "stream",
     "text": [
      "Enter Hours: 56\n",
      "Enter Rate: 3.4\n",
      "Pay: 217.6\n"
     ]
    }
   ],
   "source": [
    "def computepay(hours,rate):\n",
    "    if hours<=40:\n",
    "        pay=hours*rate\n",
    "    else:\n",
    "        pay=40*rate+(hours-40)*rate*1.5\n",
    "    print('Pay:',pay)\n",
    "\n",
    "hours = input('Enter Hours: ')    \n",
    "try:\n",
    "    hours = int(hours)\n",
    "    try:\n",
    "        rate = input('Enter Rate: ')\n",
    "        rate = float(rate)\n",
    "        computepay(hours,rate)\n",
    "    except:\n",
    "        print('Error, please enter numeric input')\n",
    "except:\n",
    "    print('Error, please enter numeric input')"
   ]
  },
  {
   "cell_type": "markdown",
   "metadata": {},
   "source": [
    "## Q8. PY4E Chapter 4 Exercise 7\n",
    "\n",
    "Rewrite the grade program from Q6 using a function called `computegrade` that takes a `score` as its parameter and\n",
    "returns a `grade` as a string.\n",
    "\n",
    "Write your code in the code cell below."
   ]
  },
  {
   "cell_type": "code",
   "execution_count": 16,
   "metadata": {},
   "outputs": [],
   "source": [
    "def computegrade(score):\n",
    "    if score > 1.0:\n",
    "        grade = 'Bad Score'\n",
    "    elif score >= 0.9:\n",
    "        grade = 'A'\n",
    "    elif score >= 0.8:\n",
    "        grade = 'B'\n",
    "    elif score >= 0.7:\n",
    "        grade = 'C'\n",
    "    elif score >= 0.6:\n",
    "        grade = 'D'\n",
    "    elif score >= 0:\n",
    "        grade = 'F'\n",
    "    else:\n",
    "        grade = 'Bad Score'\n",
    "    return grade"
   ]
  },
  {
   "cell_type": "code",
   "execution_count": 17,
   "metadata": {},
   "outputs": [
    {
     "name": "stdout",
     "output_type": "stream",
     "text": [
      "Enter score:0.89\n",
      "B\n"
     ]
    }
   ],
   "source": [
    "try:\n",
    "    score = float(input(\"Enter score:\"))\n",
    "    print(computegrade(score))\n",
    "except:\n",
    "    print('Bad score')"
   ]
  }
 ],
 "metadata": {
  "kernelspec": {
   "display_name": "Python 3",
   "language": "python",
   "name": "python3"
  },
  "language_info": {
   "codemirror_mode": {
    "name": "ipython",
    "version": 3
   },
   "file_extension": ".py",
   "mimetype": "text/x-python",
   "name": "python",
   "nbconvert_exporter": "python",
   "pygments_lexer": "ipython3",
   "version": "3.7.1"
  }
 },
 "nbformat": 4,
 "nbformat_minor": 2
}
