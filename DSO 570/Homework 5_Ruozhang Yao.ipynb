{
 "cells": [
  {
   "cell_type": "markdown",
   "metadata": {},
   "source": [
    "# Homework 5 (Due before class on 2/12)\n",
    "\n",
    "**Name:** Ruozhang Yao\n",
    "\n",
    "For questions Q1-Q4, you should simply type your answer inside the markdown cell containing the question text, below **\"Answer\"**. You are not expected to write code for the first five questions, although you can use code cells to help you make computations. \n",
    "\n",
    "Questions Q5-Q7 are coding questions to help you practice manipulating data using Pandas."
   ]
  },
  {
   "cell_type": "markdown",
   "metadata": {},
   "source": [
    "## Q1. DMD Exercise 2.1 \n",
    "\n",
    "A four-sided die is engraved with the numbers 1 through 4 on its four different sides. Suppose that when rolled, each side (and hence each number) has an equal probability of being the bottom face when it lands. We roll two such dice. Let X be the sum of the numbers on the bottom faces of the two dice.\n",
    "\n",
    "(a) What is the probability that X is at least five?\n",
    "\n",
    "(b) How does your answer to (a) change if you are told that the bottom face of the first die has the number 3 on it?\n",
    "\n",
    "(c) How does your answer to (a) change if you are told that the bottom face of one of the dice has the number 3 on it?\n",
    "\n",
    "**Answer:**\n",
    "<br>(a) P(X>=5) = 1 - P(X<5) = 1- [P(1,1)+ P(1,2)+P(2,1)+P(2,2)+P(1,3)+P(3,1)] = 1- 6/16 = **0.625**\n",
    "\n",
    "(b) P(X>=5|X1=3) = [P(3,2)+P(3,3)+P(3,4)]/0.25 = **0.75**\n",
    "\n",
    "(c) Given that the bottom face of one of the dice has the number 3 on it, there are 7 total occasions: (1,3)(3,1)(2,3)(3,2)(3,3)(3,4),(4,3), in which 5 of them result in sum of the numbers >=5, so P = 5/7 = **0.71**"
   ]
  },
  {
   "cell_type": "markdown",
   "metadata": {},
   "source": [
    "## Q2. DMD Exercise 2.4 \n",
    "\n",
    "An oil company is drilling for oil at three promising sites. According\n",
    "to geological tests, the probabilities of finding oil at these three sites are 0.70, 0.85, and 0.80,\n",
    "respectively. The presence of oil at any one of the sites is presumed to be independent of the\n",
    "presence of oil at any of the other sites.\n",
    "\n",
    "(a) What is the probability of finding oil at all three of the sites?\n",
    "\n",
    "(b) What is the probability of not finding oil at any of the three sites?\n",
    "\n",
    "**Answer:**\n",
    "<br>(a) let 1,2,3 represent finding oil at each three sites, $P = P(1)\\times P(2)\\times P(3) = 0.70\\times0.85\\times0.80 = 0.476$\n",
    "\n",
    "(b)$P = (1-P(1))\\times (1-P(2))\\times 1-(P(3)) = 0.30\\times0.15\\times0.20 = 0.009$"
   ]
  },
  {
   "cell_type": "code",
   "execution_count": 5,
   "metadata": {},
   "outputs": [
    {
     "data": {
      "text/plain": [
       "0.476"
      ]
     },
     "execution_count": 5,
     "metadata": {},
     "output_type": "execute_result"
    }
   ],
   "source": [
    "0.7*0.85*0.8"
   ]
  },
  {
   "cell_type": "code",
   "execution_count": 6,
   "metadata": {},
   "outputs": [
    {
     "data": {
      "text/plain": [
       "0.009"
      ]
     },
     "execution_count": 6,
     "metadata": {},
     "output_type": "execute_result"
    }
   ],
   "source": [
    "0.3*0.15*0.2"
   ]
  },
  {
   "cell_type": "markdown",
   "metadata": {},
   "source": [
    "## Q3. DMD Exercise 2.10 \n",
    "A hardware store has received two shipments of halogen lamps. The first shipment contains 100 lamps, 4 percent of which are defective. The second shipment contains 50 lamps, 6 percent of which are defective. Suppose that Emanuel picks a lamp (at random) off of the shelf and purchases it, and he later discovers that the lamp he purchased is defective. Is the defective lamp more likely to come from the first shipment or from the second shipment?\n",
    "\n",
    "**Answer:**\n",
    "<br>let A = lamp comes from the first shipment, B = lamp comes from the second shipment and C = lamp purchased is defective:\n",
    "$$ P(A|C) = \\frac{100 * 0.04}{100*0.04+50*0.06} = 0.57 $$\n",
    "\n",
    "$$ P(B|C) = \\frac{50*0.06}{100*0.04+50*0.06} = 0.43 $$\n",
    "So the defective lamp more likely to come from the first shipment or from the second shipment."
   ]
  },
  {
   "cell_type": "code",
   "execution_count": 8,
   "metadata": {},
   "outputs": [
    {
     "data": {
      "text/plain": [
       "0.42857142857142855"
      ]
     },
     "execution_count": 8,
     "metadata": {},
     "output_type": "execute_result"
    }
   ],
   "source": [
    "(50 * 0.06)/(100*0.04+50*0.06)"
   ]
  },
  {
   "cell_type": "markdown",
   "metadata": {},
   "source": [
    "## Q4. DMD Exercise 2.11 \n",
    "It is estimated that one third of the population in a given county is infected with the tuberculosis (TB) bacteria. The human body is usually able to successfully fight the TB bacteria and so prevent the onset of the TB disease. Consequently, a person infected with the TB bacteria has only a 10 percent chance of development the TB disease over his/her lifetime.\n",
    "\n",
    "(a)\tSuppose that we choose a person at random from all of the people in the county. What is the probability that this person will have TB disease over his/her lifetime?\n",
    "\n",
    "(b)\tSuppose that among those people who have died in the county in the last year, we perform an autopsy on one of the bodies chosen at random, and we find that this person did not have the TB disease. What is the probability that this person had been infected with the TB bacteria?\n",
    "\n",
    "**Answer:**\n",
    "<br> (a) let A = the person is infected with TB bacteria, B = the person will have TB disease over his/her lifetime:\n",
    "$$P(B) = p(A)\\times P(B|A) = \\frac{1}{3} \\times 0.1 = 0.033 $$\n",
    "\n",
    "(b) $$P(A|B^c) = \\frac{P(AB^c)}{P(B^c)} = \\frac{P(B^c|A)\\times P(A)}{1-P(B)} =\\frac { \\frac{1}{3} \\times 0.9 }{1-0.033}  = 0.31$$"
   ]
  },
  {
   "cell_type": "code",
   "execution_count": 9,
   "metadata": {},
   "outputs": [
    {
     "data": {
      "text/plain": [
       "0.03333333333333333"
      ]
     },
     "execution_count": 9,
     "metadata": {},
     "output_type": "execute_result"
    }
   ],
   "source": [
    "1/3 *0.1"
   ]
  },
  {
   "cell_type": "code",
   "execution_count": 11,
   "metadata": {},
   "outputs": [
    {
     "data": {
      "text/plain": [
       "0.3103448275862069"
      ]
     },
     "execution_count": 11,
     "metadata": {},
     "output_type": "execute_result"
    }
   ],
   "source": [
    "(1/3*0.9)/(1-1/3*0.1)"
   ]
  },
  {
   "cell_type": "markdown",
   "metadata": {},
   "source": [
    "For the next three questions, download the `\"sales2018.csv.gz\"` file at https://www.dropbox.com/s/rc2noggb91kcims/sales2018.csv.gz?dl=0 (click the Download button at the top right on Dropbox, do not try to extract it but leave it as a compressed file) and save it in a folder accessible from the current directory. Load this into a DataFrame. The first few rows are as below."
   ]
  },
  {
   "cell_type": "code",
   "execution_count": 12,
   "metadata": {},
   "outputs": [
    {
     "data": {
      "text/html": [
       "<div>\n",
       "<style scoped>\n",
       "    .dataframe tbody tr th:only-of-type {\n",
       "        vertical-align: middle;\n",
       "    }\n",
       "\n",
       "    .dataframe tbody tr th {\n",
       "        vertical-align: top;\n",
       "    }\n",
       "\n",
       "    .dataframe thead th {\n",
       "        text-align: right;\n",
       "    }\n",
       "</style>\n",
       "<table border=\"1\" class=\"dataframe\">\n",
       "  <thead>\n",
       "    <tr style=\"text-align: right;\">\n",
       "      <th></th>\n",
       "      <th>sales_period</th>\n",
       "      <th>region</th>\n",
       "      <th>chain_id</th>\n",
       "      <th>BDC</th>\n",
       "      <th>BDC_description</th>\n",
       "      <th>GTIN</th>\n",
       "      <th>sales</th>\n",
       "      <th>returns</th>\n",
       "    </tr>\n",
       "  </thead>\n",
       "  <tbody>\n",
       "    <tr>\n",
       "      <th>0</th>\n",
       "      <td>1</td>\n",
       "      <td>SOUTHWEST</td>\n",
       "      <td>6.0</td>\n",
       "      <td>2015006</td>\n",
       "      <td>LAY'S XL HON BBQ</td>\n",
       "      <td>28400200684</td>\n",
       "      <td>40.656</td>\n",
       "      <td>0.000</td>\n",
       "    </tr>\n",
       "    <tr>\n",
       "      <th>1</th>\n",
       "      <td>1</td>\n",
       "      <td>SOUTHWEST</td>\n",
       "      <td>6.0</td>\n",
       "      <td>2015009</td>\n",
       "      <td>LAY'S XL KCM</td>\n",
       "      <td>28400199612</td>\n",
       "      <td>269.104</td>\n",
       "      <td>1.936</td>\n",
       "    </tr>\n",
       "    <tr>\n",
       "      <th>2</th>\n",
       "      <td>1</td>\n",
       "      <td>SOUTHWEST</td>\n",
       "      <td>6.0</td>\n",
       "      <td>2015011</td>\n",
       "      <td>LAY'S  XL REG</td>\n",
       "      <td>28400199148</td>\n",
       "      <td>425.920</td>\n",
       "      <td>3.872</td>\n",
       "    </tr>\n",
       "    <tr>\n",
       "      <th>3</th>\n",
       "      <td>1</td>\n",
       "      <td>SOUTHWEST</td>\n",
       "      <td>6.0</td>\n",
       "      <td>2015014</td>\n",
       "      <td>LAY'S XL  REG WAVY</td>\n",
       "      <td>28400043809</td>\n",
       "      <td>7.744</td>\n",
       "      <td>0.000</td>\n",
       "    </tr>\n",
       "    <tr>\n",
       "      <th>4</th>\n",
       "      <td>1</td>\n",
       "      <td>SOUTHWEST</td>\n",
       "      <td>6.0</td>\n",
       "      <td>2015014</td>\n",
       "      <td>LAY'S XL  REG WAVY</td>\n",
       "      <td>28400199544</td>\n",
       "      <td>114.224</td>\n",
       "      <td>5.808</td>\n",
       "    </tr>\n",
       "  </tbody>\n",
       "</table>\n",
       "</div>"
      ],
      "text/plain": [
       "   sales_period     region  chain_id      BDC     BDC_description  \\\n",
       "0             1  SOUTHWEST       6.0  2015006    LAY'S XL HON BBQ   \n",
       "1             1  SOUTHWEST       6.0  2015009        LAY'S XL KCM   \n",
       "2             1  SOUTHWEST       6.0  2015011       LAY'S  XL REG   \n",
       "3             1  SOUTHWEST       6.0  2015014  LAY'S XL  REG WAVY   \n",
       "4             1  SOUTHWEST       6.0  2015014  LAY'S XL  REG WAVY   \n",
       "\n",
       "          GTIN    sales  returns  \n",
       "0  28400200684   40.656    0.000  \n",
       "1  28400199612  269.104    1.936  \n",
       "2  28400199148  425.920    3.872  \n",
       "3  28400043809    7.744    0.000  \n",
       "4  28400199544  114.224    5.808  "
      ]
     },
     "execution_count": 12,
     "metadata": {},
     "output_type": "execute_result"
    }
   ],
   "source": [
    "import pandas as pd\n",
    "sales=pd.read_csv('sales2018.csv.gz')\n",
    "sales.head()"
   ]
  },
  {
   "cell_type": "markdown",
   "metadata": {},
   "source": [
    "# Q5. National Trends and Regional Comparisons\n",
    "\n",
    "This question asks you to produce plots that illustrate the dataset at a high level.\n",
    "\n",
    "(a) Group the data by the column \"sales_period\", and compute the total sales in each period. Plot the total sales and update the title, xlabel and ylabel as below. (Hint: you can use the following command to make the y-axis begin at zero for the most recent plot.)\n",
    "\n",
    "```python\n",
    "import matplotlib.pyplot as plt\n",
    "plt.ylim(bottom=0)\n",
    "```"
   ]
  },
  {
   "cell_type": "code",
   "execution_count": 17,
   "metadata": {},
   "outputs": [
    {
     "data": {
      "image/png": "[encoded data removed]",
      "text/plain": [
       "<Figure size 432x288 with 1 Axes>"
      ]
     },
     "metadata": {
      "needs_background": "light"
     },
     "output_type": "display_data"
    }
   ],
   "source": [
    "import matplotlib.pyplot as plt\n",
    "sales.groupby('sales_period')['sales'].sum().plot()\n",
    "plt.title('National Revenue in 2018')\n",
    "plt.ylabel('Revenue')\n",
    "plt.xlabel('Sales Period (1 period is 4 weeks)')\n",
    "plt.ylim(bottom=0)\n",
    "plt.show()"
   ]
  },
  {
   "cell_type": "markdown",
   "metadata": {},
   "source": [
    "(b) Group the data by the column \"region\", compute the total sales from each region, and plot using a bar plot as below."
   ]
  },
  {
   "cell_type": "code",
   "execution_count": 18,
   "metadata": {},
   "outputs": [
    {
     "data": {
      "image/png": "[encoded data removed]",
      "text/plain": [
       "<Figure size 432x288 with 1 Axes>"
      ]
     },
     "metadata": {
      "needs_background": "light"
     },
     "output_type": "display_data"
    }
   ],
   "source": [
    "sales.groupby('region')['sales'].sum().plot.bar()\n",
    "plt.title('Revenue by Region in 2018')\n",
    "plt.ylabel('Revenue')\n",
    "plt.xlabel('Revenue by Region in 2018')\n",
    "plt.show()"
   ]
  },
  {
   "cell_type": "markdown",
   "metadata": {},
   "source": [
    "## Q6. Examining Products that Are Often Returned (Due to Expiration)\n",
    "\n",
    "The column named \"returns\" documents the value of the product that is returned from the retailer during the sales period (because the product is expired). The manufacturer (FritoLays) has committed to buy back all of the products that are expired, so the retailers do not bear the associated risks. This question asks you to zoom in to a product that is returned a lot and figure out what happened.\n",
    "\n",
    "(a) Group the data by the column \"GTIN\" (product ID) and compute the total sales and returns for each product. Create a scatter plot as below where each point corresponds to a product, the x-axis corresponds to the total sales, and the y-axis corresponds to the total returns. "
   ]
  },
  {
   "cell_type": "code",
   "execution_count": 19,
   "metadata": {},
   "outputs": [
    {
     "data": {
      "image/png": "[encoded data removed]",
      "text/plain": [
       "<Figure size 432x288 with 1 Axes>"
      ]
     },
     "metadata": {
      "needs_background": "light"
     },
     "output_type": "display_data"
    }
   ],
   "source": [
    "sales.groupby('GTIN').agg({'sales':'sum','returns':'sum'}).plot.scatter(x = 'sales', y= 'returns')\n",
    "plt.ylabel('returns')\n",
    "plt.xlabel('sales')\n",
    "plt.show()"
   ]
  },
  {
   "cell_type": "markdown",
   "metadata": {},
   "source": [
    "(b) Create a new DataFrame called \"products\" in which each row is indexed by the GTIN (product ID). There should be four columns. \n",
    "\n",
    "- BDC_description: the first occurrence of the corresponding column in the original dataset for this GTIN.\n",
    "- sales: the total sales for this GTIN.\n",
    "- returns: the total returns for this GTIN.\n",
    "- return_ratio: the above column (returns) divided by the previous column (sales).\n",
    "\n",
    "Filter this DataFrame so that waste is at least 0.1 (10 percent), sort by the column \"returns\" in descending order, and display the first five rows."
   ]
  },
  {
   "cell_type": "code",
   "execution_count": 22,
   "metadata": {},
   "outputs": [
    {
     "data": {
      "text/html": [
       "<div>\n",
       "<style scoped>\n",
       "    .dataframe tbody tr th:only-of-type {\n",
       "        vertical-align: middle;\n",
       "    }\n",
       "\n",
       "    .dataframe tbody tr th {\n",
       "        vertical-align: top;\n",
       "    }\n",
       "\n",
       "    .dataframe thead th {\n",
       "        text-align: right;\n",
       "    }\n",
       "</style>\n",
       "<table border=\"1\" class=\"dataframe\">\n",
       "  <thead>\n",
       "    <tr style=\"text-align: right;\">\n",
       "      <th></th>\n",
       "      <th>BDC_description</th>\n",
       "      <th>sales</th>\n",
       "      <th>returns</th>\n",
       "      <th>return_ratio</th>\n",
       "    </tr>\n",
       "    <tr>\n",
       "      <th>GTIN</th>\n",
       "      <th></th>\n",
       "      <th></th>\n",
       "      <th></th>\n",
       "      <th></th>\n",
       "    </tr>\n",
       "  </thead>\n",
       "  <tbody>\n",
       "    <tr>\n",
       "      <th>28400923293</th>\n",
       "      <td>DR XXVL INFERNO</td>\n",
       "      <td>1.922410e+07</td>\n",
       "      <td>2678771.550</td>\n",
       "      <td>0.139344</td>\n",
       "    </tr>\n",
       "    <tr>\n",
       "      <th>28400600927</th>\n",
       "      <td>DORITO X-XVL NUG/CHD</td>\n",
       "      <td>1.478977e+07</td>\n",
       "      <td>1490084.315</td>\n",
       "      <td>0.100751</td>\n",
       "    </tr>\n",
       "    <tr>\n",
       "      <th>28400601290</th>\n",
       "      <td>MATADO 6CT TERI</td>\n",
       "      <td>6.136973e+05</td>\n",
       "      <td>857300.640</td>\n",
       "      <td>1.396944</td>\n",
       "    </tr>\n",
       "    <tr>\n",
       "      <th>28400601320</th>\n",
       "      <td>MATADO 6CT ORIG</td>\n",
       "      <td>8.393314e+05</td>\n",
       "      <td>787043.040</td>\n",
       "      <td>0.937702</td>\n",
       "    </tr>\n",
       "    <tr>\n",
       "      <th>28400674751</th>\n",
       "      <td>LB XXVL PAB BBQ</td>\n",
       "      <td>4.383899e+06</td>\n",
       "      <td>581055.565</td>\n",
       "      <td>0.132543</td>\n",
       "    </tr>\n",
       "  </tbody>\n",
       "</table>\n",
       "</div>"
      ],
      "text/plain": [
       "                  BDC_description         sales      returns  return_ratio\n",
       "GTIN                                                                      \n",
       "28400923293       DR XXVL INFERNO  1.922410e+07  2678771.550      0.139344\n",
       "28400600927  DORITO X-XVL NUG/CHD  1.478977e+07  1490084.315      0.100751\n",
       "28400601290       MATADO 6CT TERI  6.136973e+05   857300.640      1.396944\n",
       "28400601320       MATADO 6CT ORIG  8.393314e+05   787043.040      0.937702\n",
       "28400674751       LB XXVL PAB BBQ  4.383899e+06   581055.565      0.132543"
      ]
     },
     "execution_count": 22,
     "metadata": {},
     "output_type": "execute_result"
    }
   ],
   "source": [
    "products=sales.groupby('GTIN')\\\n",
    "    .agg({'BDC_description':'first','sales':'sum','returns':'sum'})\n",
    "\n",
    "products['return_ratio']=products['returns']/products['sales']\n",
    "\n",
    "products[products['return_ratio'] >= 0.1].sort_values(by='returns',ascending=False).head(5)"
   ]
  },
  {
   "cell_type": "markdown",
   "metadata": {},
   "source": [
    "(c) As seen above, the product with the highest returns in 2018 is \"DR XXVL INFERNO\", with GTIN 28400923293. Filter the original dataset to only show this product and compute the return ratio for each region separately (by first grouping by the region and computing the sum of sales and returns in each region, and then dividing the total returns by the total sales in each region.) Sort the result by return ratio and plot the return ratio by region as below."
   ]
  },
  {
   "cell_type": "code",
   "execution_count": 34,
   "metadata": {},
   "outputs": [
    {
     "data": {
      "image/png": "[encoded data removed]",
      "text/plain": [
       "<Figure size 432x288 with 1 Axes>"
      ]
     },
     "metadata": {
      "needs_background": "light"
     },
     "output_type": "display_data"
    }
   ],
   "source": [
    "DR = sales[sales['GTIN'] == 28400923293].groupby('region').agg({'sales':'sum','returns':'sum'})\n",
    "DR['return_ratio'] = DR['returns']/DR['sales']\n",
    "DR.sort_values('return_ratio').plot.bar(y = 'return_ratio',title = 'Return ratio of DR XXVL INFERNO by region')\n",
    "plt.ylabel('Proportion of sales returned')\n",
    "plt.xlabel('Sales region')\n",
    "plt.legend('',frameon=False)\n",
    "plt.show()"
   ]
  },
  {
   "cell_type": "markdown",
   "metadata": {},
   "source": [
    "(d) Filtering again for the same GTIN as above, group by the sales_period and compute the total sales and returns in each period, and plot both columns as below. \n",
    "\n",
    "As can be seen, Fritolays pushed out a lot of sales of this product in the early periods, but evidently there were a lot of expirations in periods 6 through 9, which drove the high returns for this product."
   ]
  },
  {
   "cell_type": "code",
   "execution_count": 36,
   "metadata": {},
   "outputs": [
    {
     "data": {
      "image/png": "[encoded data removed]",
      "text/plain": [
       "<Figure size 432x288 with 1 Axes>"
      ]
     },
     "metadata": {
      "needs_background": "light"
     },
     "output_type": "display_data"
    }
   ],
   "source": [
    "sales[sales['GTIN'] == 28400923293].groupby('sales_period').agg({'sales':'sum','returns':'sum'}).plot()\n",
    "plt.title('What happened to DR XXVL INFERNO in 2018?')\n",
    "plt.ylabel('Dollars')\n",
    "plt.xlabel('Sales period')\n",
    "plt.show()"
   ]
  },
  {
   "cell_type": "markdown",
   "metadata": {},
   "source": [
    "## Q7. Differential Taste Preferences across Regions\n",
    "\n",
    "(a) Create a DataFrame called \"products\" (similar to in Q6). Add a column called \"hot\" which corresponds to whether the BDC_description contains the substrings \"HOT\" or \"SPY\" or \"FLAM.\" Sort the DataFrame by decreasing sales and display the first five rows as below."
   ]
  },
  {
   "cell_type": "code",
   "execution_count": 37,
   "metadata": {},
   "outputs": [
    {
     "data": {
      "text/html": [
       "<div>\n",
       "<style scoped>\n",
       "    .dataframe tbody tr th:only-of-type {\n",
       "        vertical-align: middle;\n",
       "    }\n",
       "\n",
       "    .dataframe tbody tr th {\n",
       "        vertical-align: top;\n",
       "    }\n",
       "\n",
       "    .dataframe thead th {\n",
       "        text-align: right;\n",
       "    }\n",
       "</style>\n",
       "<table border=\"1\" class=\"dataframe\">\n",
       "  <thead>\n",
       "    <tr style=\"text-align: right;\">\n",
       "      <th></th>\n",
       "      <th>BDC_description</th>\n",
       "      <th>sales</th>\n",
       "      <th>returns</th>\n",
       "      <th>hot</th>\n",
       "    </tr>\n",
       "    <tr>\n",
       "      <th>GTIN</th>\n",
       "      <th></th>\n",
       "      <th></th>\n",
       "      <th></th>\n",
       "      <th></th>\n",
       "    </tr>\n",
       "  </thead>\n",
       "  <tbody>\n",
       "    <tr>\n",
       "      <th>28400642033</th>\n",
       "      <td>DORITOS XXL NAC</td>\n",
       "      <td>4.492523e+08</td>\n",
       "      <td>1.281142e+06</td>\n",
       "      <td>False</td>\n",
       "    </tr>\n",
       "    <tr>\n",
       "      <th>28400064088</th>\n",
       "      <td>TOSTITOS XXL SCOOPS</td>\n",
       "      <td>2.731882e+08</td>\n",
       "      <td>1.993287e+06</td>\n",
       "      <td>False</td>\n",
       "    </tr>\n",
       "    <tr>\n",
       "      <th>28400645492</th>\n",
       "      <td>LAY'S XXL REG</td>\n",
       "      <td>2.723866e+08</td>\n",
       "      <td>1.854966e+06</td>\n",
       "      <td>False</td>\n",
       "    </tr>\n",
       "    <tr>\n",
       "      <th>28400002899</th>\n",
       "      <td>VPK    SUPER WHTCRN</td>\n",
       "      <td>2.149266e+08</td>\n",
       "      <td>8.349600e+05</td>\n",
       "      <td>False</td>\n",
       "    </tr>\n",
       "    <tr>\n",
       "      <th>28400596688</th>\n",
       "      <td>CT PUF XL JUMBO</td>\n",
       "      <td>2.064506e+08</td>\n",
       "      <td>6.129386e+05</td>\n",
       "      <td>False</td>\n",
       "    </tr>\n",
       "  </tbody>\n",
       "</table>\n",
       "</div>"
      ],
      "text/plain": [
       "                 BDC_description         sales       returns    hot\n",
       "GTIN                                                               \n",
       "28400642033      DORITOS XXL NAC  4.492523e+08  1.281142e+06  False\n",
       "28400064088  TOSTITOS XXL SCOOPS  2.731882e+08  1.993287e+06  False\n",
       "28400645492        LAY'S XXL REG  2.723866e+08  1.854966e+06  False\n",
       "28400002899  VPK    SUPER WHTCRN  2.149266e+08  8.349600e+05  False\n",
       "28400596688      CT PUF XL JUMBO  2.064506e+08  6.129386e+05  False"
      ]
     },
     "execution_count": 37,
     "metadata": {},
     "output_type": "execute_result"
    }
   ],
   "source": [
    "products=sales.groupby('GTIN').agg({'BDC_description':'first','sales':'sum','returns':'sum'})\n",
    "\n",
    "products['hot']=products['BDC_description'].str.contains('HOT')| products['BDC_description'].str.contains('SPY')\\\n",
    "| products['BDC_description'].str.contains('FLAM')\n",
    "\n",
    "products.sort_values('sales',ascending = False).head(5)"
   ]
  },
  {
   "cell_type": "markdown",
   "metadata": {},
   "source": [
    "(b) Read the documentation (either by Googling or by using the \"help\" function) to learn about the \"merge\" function of pandas DataFrames. (You can Google for \"pandas DataFrame merge\".) Merge the column \"hot\" from the \"products\" DataFrame in part (a) with the original dataset. Call the resulting DataFrame \"sales2\" and display the first five rows as below. \n",
    "\n",
    "Hint: to only merge the column \"hot\", you can first apply `products[['hot']]`, which obtains a DataFrame containing only the column \"hot\" and the index (GTIN). (The double square bracket denotes indexing with a list of columns, and the list being `['hot']`.)  The relevant options in `merge` you should look into are \"left_on\", \"right_index\" and \"how.\""
   ]
  },
  {
   "cell_type": "code",
   "execution_count": 44,
   "metadata": {},
   "outputs": [
    {
     "data": {
      "text/html": [
       "<div>\n",
       "<style scoped>\n",
       "    .dataframe tbody tr th:only-of-type {\n",
       "        vertical-align: middle;\n",
       "    }\n",
       "\n",
       "    .dataframe tbody tr th {\n",
       "        vertical-align: top;\n",
       "    }\n",
       "\n",
       "    .dataframe thead th {\n",
       "        text-align: right;\n",
       "    }\n",
       "</style>\n",
       "<table border=\"1\" class=\"dataframe\">\n",
       "  <thead>\n",
       "    <tr style=\"text-align: right;\">\n",
       "      <th></th>\n",
       "      <th>sales_period</th>\n",
       "      <th>region</th>\n",
       "      <th>chain_id</th>\n",
       "      <th>BDC</th>\n",
       "      <th>BDC_description</th>\n",
       "      <th>GTIN</th>\n",
       "      <th>sales</th>\n",
       "      <th>returns</th>\n",
       "      <th>hot</th>\n",
       "    </tr>\n",
       "  </thead>\n",
       "  <tbody>\n",
       "    <tr>\n",
       "      <th>0</th>\n",
       "      <td>1</td>\n",
       "      <td>SOUTHWEST</td>\n",
       "      <td>6.0</td>\n",
       "      <td>2015006</td>\n",
       "      <td>LAY'S XL HON BBQ</td>\n",
       "      <td>28400200684</td>\n",
       "      <td>40.656</td>\n",
       "      <td>0.000</td>\n",
       "      <td>False</td>\n",
       "    </tr>\n",
       "    <tr>\n",
       "      <th>1</th>\n",
       "      <td>1</td>\n",
       "      <td>SOUTHWEST</td>\n",
       "      <td>6.0</td>\n",
       "      <td>2015009</td>\n",
       "      <td>LAY'S XL KCM</td>\n",
       "      <td>28400199612</td>\n",
       "      <td>269.104</td>\n",
       "      <td>1.936</td>\n",
       "      <td>False</td>\n",
       "    </tr>\n",
       "    <tr>\n",
       "      <th>2</th>\n",
       "      <td>1</td>\n",
       "      <td>SOUTHWEST</td>\n",
       "      <td>6.0</td>\n",
       "      <td>2015011</td>\n",
       "      <td>LAY'S  XL REG</td>\n",
       "      <td>28400199148</td>\n",
       "      <td>425.920</td>\n",
       "      <td>3.872</td>\n",
       "      <td>False</td>\n",
       "    </tr>\n",
       "    <tr>\n",
       "      <th>3</th>\n",
       "      <td>1</td>\n",
       "      <td>SOUTHWEST</td>\n",
       "      <td>6.0</td>\n",
       "      <td>2015014</td>\n",
       "      <td>LAY'S XL  REG WAVY</td>\n",
       "      <td>28400043809</td>\n",
       "      <td>7.744</td>\n",
       "      <td>0.000</td>\n",
       "      <td>False</td>\n",
       "    </tr>\n",
       "    <tr>\n",
       "      <th>4</th>\n",
       "      <td>1</td>\n",
       "      <td>SOUTHWEST</td>\n",
       "      <td>6.0</td>\n",
       "      <td>2015014</td>\n",
       "      <td>LAY'S XL  REG WAVY</td>\n",
       "      <td>28400199544</td>\n",
       "      <td>114.224</td>\n",
       "      <td>5.808</td>\n",
       "      <td>False</td>\n",
       "    </tr>\n",
       "  </tbody>\n",
       "</table>\n",
       "</div>"
      ],
      "text/plain": [
       "   sales_period     region  chain_id      BDC     BDC_description  \\\n",
       "0             1  SOUTHWEST       6.0  2015006    LAY'S XL HON BBQ   \n",
       "1             1  SOUTHWEST       6.0  2015009        LAY'S XL KCM   \n",
       "2             1  SOUTHWEST       6.0  2015011       LAY'S  XL REG   \n",
       "3             1  SOUTHWEST       6.0  2015014  LAY'S XL  REG WAVY   \n",
       "4             1  SOUTHWEST       6.0  2015014  LAY'S XL  REG WAVY   \n",
       "\n",
       "          GTIN    sales  returns    hot  \n",
       "0  28400200684   40.656    0.000  False  \n",
       "1  28400199612  269.104    1.936  False  \n",
       "2  28400199148  425.920    3.872  False  \n",
       "3  28400043809    7.744    0.000  False  \n",
       "4  28400199544  114.224    5.808  False  "
      ]
     },
     "execution_count": 44,
     "metadata": {},
     "output_type": "execute_result"
    }
   ],
   "source": [
    "hot = products[['hot']]\n",
    "sales2 = sales.merge(hot, left_on='GTIN', right_on='GTIN', how='left')\n",
    "sales2.head(5)"
   ]
  },
  {
   "cell_type": "markdown",
   "metadata": {},
   "source": [
    "(c) After you created the \"sales2\" DataFrame above, you can run the following code to groupby the columns \"region\" and \"hot\" and compute the total sales in each combination.\n"
   ]
  },
  {
   "cell_type": "code",
   "execution_count": 45,
   "metadata": {},
   "outputs": [
    {
     "data": {
      "text/plain": [
       "region        hot  \n",
       "CAROLINAS     False    1.107189e+09\n",
       "              True     7.554390e+07\n",
       "HEARTLAND     False    9.417314e+08\n",
       "              True     1.332320e+08\n",
       "MID-AMERICA   False    9.045835e+08\n",
       "              True     8.757321e+07\n",
       "MID-ATLANTIC  False    9.225461e+08\n",
       "              True     4.773408e+07\n",
       "MID-SOUTH     False    1.789494e+09\n",
       "              True     3.601769e+08\n",
       "MIDWEST       False    9.547019e+08\n",
       "              True     8.184948e+07\n",
       "NORTHEAST     False    9.987505e+08\n",
       "              True     3.831104e+07\n",
       "NORTHWEST     False    1.035705e+09\n",
       "              True     1.266731e+08\n",
       "SOUTHEAST     False    1.863230e+09\n",
       "              True     1.745410e+08\n",
       "SOUTHWEST     False    1.624273e+09\n",
       "              True     4.805738e+08\n",
       "Name: sales, dtype: float64"
      ]
     },
     "execution_count": 45,
     "metadata": {},
     "output_type": "execute_result"
    }
   ],
   "source": [
    "sales2.groupby(['region','hot'])['sales'].sum()"
   ]
  },
  {
   "cell_type": "markdown",
   "metadata": {},
   "source": [
    "The above result is a Series object with two levels of indices, \"region\" and \"hot\". The values are displayed in the right most column above, and the label for each row is a combination of terms. The first value corresponds to the label (\"CAROLINAS\", False), the second value of correspond to the label (\"CAROLINAS\",True), the third corresponds to (\"HEARTLAND\", False), etc.\n",
    "\n",
    "Read the documentation for the function \"unstack\" to transform the above result to the following DataFrame, and then apply the function \"plot\" to this DataFrame to draw the following bar plot."
   ]
  },
  {
   "cell_type": "code",
   "execution_count": 46,
   "metadata": {},
   "outputs": [
    {
     "data": {
      "text/html": [
       "<div>\n",
       "<style scoped>\n",
       "    .dataframe tbody tr th:only-of-type {\n",
       "        vertical-align: middle;\n",
       "    }\n",
       "\n",
       "    .dataframe tbody tr th {\n",
       "        vertical-align: top;\n",
       "    }\n",
       "\n",
       "    .dataframe thead th {\n",
       "        text-align: right;\n",
       "    }\n",
       "</style>\n",
       "<table border=\"1\" class=\"dataframe\">\n",
       "  <thead>\n",
       "    <tr style=\"text-align: right;\">\n",
       "      <th>hot</th>\n",
       "      <th>False</th>\n",
       "      <th>True</th>\n",
       "    </tr>\n",
       "    <tr>\n",
       "      <th>region</th>\n",
       "      <th></th>\n",
       "      <th></th>\n",
       "    </tr>\n",
       "  </thead>\n",
       "  <tbody>\n",
       "    <tr>\n",
       "      <th>CAROLINAS</th>\n",
       "      <td>1.107189e+09</td>\n",
       "      <td>7.554390e+07</td>\n",
       "    </tr>\n",
       "    <tr>\n",
       "      <th>HEARTLAND</th>\n",
       "      <td>9.417314e+08</td>\n",
       "      <td>1.332320e+08</td>\n",
       "    </tr>\n",
       "    <tr>\n",
       "      <th>MID-AMERICA</th>\n",
       "      <td>9.045835e+08</td>\n",
       "      <td>8.757321e+07</td>\n",
       "    </tr>\n",
       "    <tr>\n",
       "      <th>MID-ATLANTIC</th>\n",
       "      <td>9.225461e+08</td>\n",
       "      <td>4.773408e+07</td>\n",
       "    </tr>\n",
       "    <tr>\n",
       "      <th>MID-SOUTH</th>\n",
       "      <td>1.789494e+09</td>\n",
       "      <td>3.601769e+08</td>\n",
       "    </tr>\n",
       "    <tr>\n",
       "      <th>MIDWEST</th>\n",
       "      <td>9.547019e+08</td>\n",
       "      <td>8.184948e+07</td>\n",
       "    </tr>\n",
       "    <tr>\n",
       "      <th>NORTHEAST</th>\n",
       "      <td>9.987505e+08</td>\n",
       "      <td>3.831104e+07</td>\n",
       "    </tr>\n",
       "    <tr>\n",
       "      <th>NORTHWEST</th>\n",
       "      <td>1.035705e+09</td>\n",
       "      <td>1.266731e+08</td>\n",
       "    </tr>\n",
       "    <tr>\n",
       "      <th>SOUTHEAST</th>\n",
       "      <td>1.863230e+09</td>\n",
       "      <td>1.745410e+08</td>\n",
       "    </tr>\n",
       "    <tr>\n",
       "      <th>SOUTHWEST</th>\n",
       "      <td>1.624273e+09</td>\n",
       "      <td>4.805738e+08</td>\n",
       "    </tr>\n",
       "  </tbody>\n",
       "</table>\n",
       "</div>"
      ],
      "text/plain": [
       "hot                  False         True \n",
       "region                                  \n",
       "CAROLINAS     1.107189e+09  7.554390e+07\n",
       "HEARTLAND     9.417314e+08  1.332320e+08\n",
       "MID-AMERICA   9.045835e+08  8.757321e+07\n",
       "MID-ATLANTIC  9.225461e+08  4.773408e+07\n",
       "MID-SOUTH     1.789494e+09  3.601769e+08\n",
       "MIDWEST       9.547019e+08  8.184948e+07\n",
       "NORTHEAST     9.987505e+08  3.831104e+07\n",
       "NORTHWEST     1.035705e+09  1.266731e+08\n",
       "SOUTHEAST     1.863230e+09  1.745410e+08\n",
       "SOUTHWEST     1.624273e+09  4.805738e+08"
      ]
     },
     "execution_count": 46,
     "metadata": {},
     "output_type": "execute_result"
    }
   ],
   "source": [
    "sales2.groupby(['region','hot'])['sales'].sum().unstack(level=-1)"
   ]
  },
  {
   "cell_type": "code",
   "execution_count": 50,
   "metadata": {},
   "outputs": [
    {
     "data": {
      "image/png": "[encoded data removed]",
      "text/plain": [
       "<Figure size 432x288 with 1 Axes>"
      ]
     },
     "metadata": {
      "needs_background": "light"
     },
     "output_type": "display_data"
    }
   ],
   "source": [
    "sales2.groupby(['region','hot'])['sales'].sum().unstack(level=-1).plot.bar()\n",
    "plt.ylabel('Total revenue')\n",
    "plt.xlabel('region')\n",
    "plt.show()"
   ]
  },
  {
   "cell_type": "markdown",
   "metadata": {},
   "source": [
    "As can be seen, the regions Mid-South and Southwest have the most proportion of revenue coming from spicy products, which makes sense as these regions have spicy tastes."
   ]
  }
 ],
 "metadata": {
  "kernelspec": {
   "display_name": "Python 3",
   "language": "python",
   "name": "python3"
  },
  "language_info": {
   "codemirror_mode": {
    "name": "ipython",
    "version": 3
   },
   "file_extension": ".py",
   "mimetype": "text/x-python",
   "name": "python",
   "nbconvert_exporter": "python",
   "pygments_lexer": "ipython3",
   "version": "3.7.1"
  }
 },
 "nbformat": 4,
 "nbformat_minor": 2
}
