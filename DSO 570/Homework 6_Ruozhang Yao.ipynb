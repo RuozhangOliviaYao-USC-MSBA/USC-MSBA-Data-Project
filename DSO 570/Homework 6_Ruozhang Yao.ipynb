{
 "cells": [
  {
   "cell_type": "markdown",
   "metadata": {},
   "source": [
    "# Homework 6 (Due before class on 2/21)\n",
    "\n",
    "**Name:** Ruozhang Yao\n",
    "\n",
    "For questions Q1-Q6, you can use code cells to make computations, but you should write your answer and derivations as text in a markdown cell, below **\"Answer\"**. \n",
    "\n",
    "Questions Q7-Q8 are coding questions to help you practice writing simulations."
   ]
  },
  {
   "attachments": {},
   "cell_type": "markdown",
   "metadata": {},
   "source": [
    "## Q1. DMD Exercise 2.22 \n",
    "A large retail company has stores at two locations in a city: a large department store and a discount outlet store. Weekly sales of umbrellas at the department store have a mean of 147.8 and a standard deviation of 50.1. Weekly sales of umbrellas at the discount outlet store have a mean of 63.2 and a standard deviation of 37.0. Sales of umbrellas in the two stores have a correlation of 0.7.\n",
    "\n",
    "Umbrellas cost 17 dollars each at the department store and 9 dollars each at the outlet store. Compute the mean, variance, and standard deviation of the total (combined) umbrella sales revenue from the two stores. (To solve this question, you would have to use the formula in DMD Section 2.11.)\n",
    "\n",
    "**Answer:**\n",
    "\n",
    "Beacause $E[aX+b]=aE[X]+b$, $Var[aX+b]=a^2Var[X]$:\n",
    "\n",
    "$E_D = P_D * E_{DSales} = 17 \\times 147.8 = 2512.6 $, \n",
    "$\\sigma_D = |P_D|* \\sigma_{DSales} = 17 \\times 50.1 = 851.7 $\n",
    "<br> $E_O = P_O * E_{OSales} = 9 \\times 63.2 = 568.8 $, \n",
    "$\\sigma_O = |P_O|* \\sigma_{OSales} = 9 \\times 37.0 = 333 $\n",
    "<br>$r(D,O) = r(DSales,OSales) = 0.7$ \n",
    "<br>$COV(DSales,OSales) =  r(DSales,OSales)* \\sigma_{DSales} * \\sigma_{OSales} = 1297.59$\n",
    "<br>$COV(D,O) =  COV(DSales,OSales) *P_OP_D  = 1297.59 \\times 17 \\times 9 = 198531.27$\n",
    "\n",
    "$$ E(D+O) = E_D + E_O =  2512.6 + 568.8 = 3081.4$$\n",
    "$$Var(D+O) = V(D) + V(O) +2 Cov(D,O) = 851.7^2 + 333^2 + 2 \\times 198531.27 = 1233344.43 $$\n",
    "$$\\sigma(D+O) = \\sqrt{Var(D+O)} = 1110.56 $$\n",
    "So the mean, variance, and standard deviation of the total revenue is 3081.4, 1233344.43, 1110.56.\n",
    " \n"
   ]
  },
  {
   "cell_type": "code",
   "execution_count": 20,
   "metadata": {},
   "outputs": [
    {
     "data": {
      "text/plain": [
       "1110.5604125845655"
      ]
     },
     "execution_count": 20,
     "metadata": {},
     "output_type": "execute_result"
    }
   ],
   "source": [
    "import math\n",
    "a = 17 * 147.8\n",
    "b =17 * 50.1 \n",
    "c = 9 * 63.2\n",
    "d = 9*37\n",
    "e = 9 * 17 * 0.7\n",
    "a+c\n",
    "f = 0.7* 50.1 * 37\n",
    "g = f*17*9\n",
    "g\n",
    "h = b**2 +d**2 + g * 2\n",
    "math.sqrt(h)"
   ]
  },
  {
   "cell_type": "markdown",
   "metadata": {},
   "source": [
    "## Q2. DMD Exercise 2.25\n",
    "\n",
    "Suppose 5 percent of the microchips produced by a leading microchip manufacturer are defective. Historically, given that a microchip is defective, the inspector (wrongly) accepts the chip 10 percent of the time, thinking it has no defect. If a microchip is not defective, he always correctly accepts it. Suppose that the inspector inspects 10 microchips.\n",
    "\n",
    "(a) What is the probability that all 10 microchips in the sample are not defective?\n",
    "\n",
    "(b) What is the probability that the inspector accepts a particular microchip?\n",
    "\n",
    "(c) What is the probability that the inspector accepts 9 (out of 10) microchips?\n",
    "\n",
    "(d) Given that the inspector accepts a microchip, what is the probability that it has no defect?\n",
    "\n",
    "(e) Given that inspector accepts all 10 microchips, what is the probability that they all have no defects?\n",
    "\n",
    "**Answer:**\n",
    "\n",
    "(a) What is the probability that all 10 microchips in the sample are not defective?\n",
    "\n",
    "$$ P(ND) = 0.95 $$\n",
    "\n",
    "$$P(a) = 0.95^{10} = 0.599$$ \n",
    "\n",
    "(b) What is the probability that the inspector accepts a particular microchip?\n",
    "$$ P(accept) = P(accept|ND) * P(ND) + P(accept|D) * P(D) = 0.95 + 0.05 \\times 0.1 = 0.955 $$ \n",
    "\n",
    "(c) What is the probability that the inspector accepts 9 (out of 10) microchips?\n",
    "$$ P(Notaccept) = 1 - P(accept) = 0.045 $$\n",
    "$$ P(c) = C_{10}^9 \\times P(accept)^ 9 * P(Notaccept)^1 = 0.297 $$\n",
    "\n",
    "(d) Given that the inspector accepts a microchip, what is the probability that it has no defect?\n",
    "$$P(ND|accept) = \\frac{P(ND \\text{ and }accept)}{P(accept)}= \\frac{0.95}{0.955} = 0.9948 $$\n",
    "\n",
    "(e) Given that inspector accepts all 10 microchips, what is the probability that they all have no defects?\n",
    "$$P(e) = P(ND|accept)^{10} = 0.949$$"
   ]
  },
  {
   "cell_type": "code",
   "execution_count": null,
   "metadata": {},
   "outputs": [],
   "source": [
    "from scipy.stats import binom\n",
    "dist=binom(1000,return_prob)\n",
    "1-dist.cdf(99)"
   ]
  },
  {
   "cell_type": "code",
   "execution_count": 29,
   "metadata": {},
   "outputs": [
    {
     "data": {
      "text/plain": [
       "0.9488604327776428"
      ]
     },
     "execution_count": 29,
     "metadata": {},
     "output_type": "execute_result"
    }
   ],
   "source": [
    "0.95**10\n",
    "0.95 + 0.05* 0.1\n",
    "\n",
    "a = 0.955\n",
    "b = 1-0.955\n",
    "c= 10 * a**9 *b**1\n",
    "c\n",
    "d = 0.95/a\n",
    "e = d**10\n",
    "e"
   ]
  },
  {
   "cell_type": "markdown",
   "metadata": {},
   "source": [
    "## Q3. DMD Exercise 2.27\n",
    "\n",
    "In this exercise we examine the effects of overbooking in the airline industry. Ontario Gateway Airlines' first class cabins have 10 seats in each plane. Ontario's overbooking policy is to sell up to 11 first class tickets, since cancellations and no-shows are always possible (and indeed are quite likely). For a given flight on Ontario Gateway, there were 11 first class tickets sold. Suppose that each of the 11 persons who purchased tickets has a 20 percent chance of not showing up for the flight, and that the events that different persons show up for the flight are independent.\n",
    "\n",
    "(a) What is the probability that at most 5 of the 11 persons who purchased first class tickets show up for the flight?\n",
    "\n",
    "(b) What is the probability that exactly 10 of the persons who purchased first class tickets show up for the flight?\n",
    "\n",
    "(c) Suppose that there are 10 seats in the first class available and that the cost of each first class ticket is 1,200 dollars. (This 1,200 contributes entirely to profit since the variable cost associated with a passenger on a flight is close to zero.) Suppose further that any overbooked seat costs the airline 3,000 dollars, which is the cost of the free ticket issued the passenger plus some potential cost in damanged customer relations. (First class passengers do not expect to be bumped!) Thus, for example, if 10 of the first class passengers show up for the flight, the airline's profit is 12,000. If 11 first class passengers show up, the profit is 9,000. What is the expected profit from first class passengers for this flight?\n",
    "\n",
    "(d) Suppose that only 10 first class tickets were sold. What would be the expected profit from first class passengers for this flgith?\n",
    "\n",
    "(e) People often travel in groups of two or more. Does this affect the independence assumption about passenger behavior? Why or why not?\n",
    "\n",
    "**Answer:**\n",
    "\n",
    "Let $X$ be a random variable representing the number of person who show up. $X$ has a binomial distribution with parameters $n=11$ and $p=1−0.2=0.8.$\n",
    "Let $F(t)$ be the CDF of $X$, $f(t)$ be the PDF of $X$.  \n",
    "\n",
    "(a)$$P(a)= P(X<=5) = F(5) = 0.012$$\n",
    "\n",
    "(b)$$P(b) = P(X=10) = f(10) = 0.236 $$\n",
    "\n",
    "(c)From the question, we know that profit from first class passengers:\n",
    "$$P(x)= \n",
    "\\begin{cases}\n",
    "    1200X,& \\text{if } x\\leq 10\\\\\n",
    "    12000 - (X-10)*3000,              & \\text{if } x > 10\n",
    "\\end{cases}$$\n",
    "\n",
    "$$E(X) = np = 8.8$$ \n",
    "so the expected profit from first class passengers for this flight:\n",
    "$$E(P(X)) = 1200 * E(X) - f(11)\\times13200 + f(11) \\times 9000 = 10199.223 $$\n",
    "\n",
    "(d) Only 10 first class tickets were sold, so : $n = 10$\n",
    "$$P(X) = 1200X$$\n",
    "$$E(P(X))_2 = 1200 * E(X) = 1200 * 10 * 0.8 = 9600 $$\n",
    "\n",
    "(e) This does affect the independence assumption. If there is one group with 2 people$$P(X=11)_{group}=0.8^9\\cdot 0.8=0.8^{10}>P(X=11)_{independent}=0.8^{11}$$"
   ]
  },
  {
   "cell_type": "code",
   "execution_count": 39,
   "metadata": {},
   "outputs": [
    {
     "data": {
      "text/plain": [
       "9600.0"
      ]
     },
     "execution_count": 39,
     "metadata": {},
     "output_type": "execute_result"
    }
   ],
   "source": [
    "from scipy.stats import binom\n",
    "dist=binom(n=11,p=0.8)\n",
    "dist.cdf(5)\n",
    "11*0.2*(0.8)**10\n",
    "11*0.8\n",
    "1200*11*0.8-((0.8)**11)*4200\n",
    "1200 * 10 * 0.8"
   ]
  },
  {
   "cell_type": "markdown",
   "metadata": {},
   "source": [
    "## Q4. DMD Exercise 3.6\n",
    "Winter lasts from December 21 through March 21. The average winter temperature in Boston is Normally distributed with mean $\\mu=32.5$ Fahrenheit and standard deviation is $\\sigma=1.59$ Fahrenheit. In New York City, the average winter temperature is Normally distributed with mean $\\mu=35.4$ Fahrenheit and standard deviation $\\sigma=2.05$ Fahrenheit.\n",
    "\n",
    "(a) What is the probability that the average winter temperature in Boston this coming winter will be above freezing (32 degrees Fahrenheit)?\n",
    "\n",
    "(b) Assume that average winter temperatures in Boston and New York are independent. What is the probability that the average winter temperature in Boston in the coming winter will be higher than in New York?\n",
    "\n",
    "(c) Do you think the independence assumption above is reasonable?\n",
    "\n",
    "**Answer:**\n",
    "\n",
    "Let $B$ be a random variable representing the winter temperature in Boston, $N$ representing the winter temperature in New York. Then\n",
    "$$B\\sim Normal(32.5,1.59^2), N\\sim N(35.4,2.05^2)$$\n",
    "(a)$$P(B>32) = 1- F(32) = 0.623$$\n",
    "\n",
    "(b)Because both average winter temperature in Boston and New York are Normally distributed and independent,\n",
    "$$B-N\\sim Normal(32.5-35.4,(1)^2 \\times 1.59^2 + (-1)^2\\times 2.05^2) \\sim Normal(-2.9,6.7306) $$\n",
    "$$ P((B-N)>0)= 1- F'(0) = 0.132 $$\n",
    "\n",
    "(c) I don't think the independence assumption above is reasonable, because New York and Boston are geographically close. The weather change can affect both cities at the same time.\n"
   ]
  },
  {
   "cell_type": "code",
   "execution_count": 9,
   "metadata": {},
   "outputs": [
    {
     "data": {
      "text/plain": [
       "0.13182236136768588"
      ]
     },
     "execution_count": 9,
     "metadata": {},
     "output_type": "execute_result"
    }
   ],
   "source": [
    "from scipy.stats import norm\n",
    "import math\n",
    "b_B=1-norm(32.5,1.59).cdf(32)\n",
    "b_C = 1-norm(-2.9,math.sqrt(6.7306)).cdf(0)\n",
    "32.5-35.4\n",
    "1.59**2+2.05**2\n",
    "b_C"
   ]
  },
  {
   "cell_type": "markdown",
   "metadata": {},
   "source": [
    "## Q5. DMD Exercise 3.12\n",
    "A portfolio manager believes that tomorrow's foreign exchange rate of German marks per U.S. dollar will be Normally distributed with mean 2.03 and standard deviation 0.08. Using the manager's numbers, answer the following questions:\n",
    "\n",
    "(a) What is the probability that tomorrow's rate will be above 2.08?\n",
    "\n",
    "(b) What is the probability that tomorrow's rate will be below 1.85?\n",
    "\n",
    "(c) What is the probability that tomorrow's rate will be between 2.00 and 2.20?\n",
    "\n",
    "**Answer:**\n",
    "\n",
    "(a)Let $R$ be tomorrow's foreign exchange rate of German marks per U.S. dollar, then\n",
    "$$R\\sim Normal(2.03,0.08^2)$$\n",
    "Let $F(t)$ be the CDF of $R$, $f(t)$ be the PDF of $R$.  \n",
    "$$P(R>2.08) = 1-F(2.08) = 0.266$$\n",
    "\n",
    "(b) $$P(R<1.85) = F(1.85) - f(1.85) = 0.012 $$\n",
    "\n",
    "(c) $$P(2.00\\leq R \\leq 2.20) = F(2.20)- F(2.00) +f(2.00) = 0.629 $$"
   ]
  },
  {
   "cell_type": "code",
   "execution_count": 57,
   "metadata": {},
   "outputs": [
    {
     "data": {
      "text/plain": [
       "0.6293764602242743"
      ]
     },
     "execution_count": 57,
     "metadata": {},
     "output_type": "execute_result"
    }
   ],
   "source": [
    "from scipy.stats import norm\n",
    "b_a=1-norm(2.03,0.08).cdf(2.08)\n",
    "b_b = 1- norm(2.03,0.08).sf(1.85)\n",
    "b_c = norm(2.03,0.08).cdf(2.20)\n",
    "b_d = 1 - norm(2.03,0.08).sf(2.00)\n",
    "b_c - b_d"
   ]
  },
  {
   "cell_type": "markdown",
   "metadata": {},
   "source": [
    "## Q6. DMD Exercise 3.20\n",
    "\n",
    "The paint department in an automobile factory applies two processes when painting cars: (i) painting and (ii) polishing. The painting process is defective 20\\% of the time, while the polishing process is defective 10\\% of the time. Each car first goes through the painting and then through the polishing process. Each car is inspected after it has completed the two processes. If either the painting or the polishing is defective, the car is returned to a special station for rework, where the two processes are applied once again. Rework at the special station is 100\\% reliable (although it is also very expensive).\n",
    "\n",
    "(a) What is the probability that a car is returned to the special station for rework?\n",
    "\n",
    "(b) In a batch of 1000 cars, what is the expected number of cars that will be returned for rework?\n",
    "\n",
    "(c) In a batch of 1000 cars, what is the probability that the number of returned cars is less than or equal to 200?\n",
    "\n",
    "(d) Let $X$ be the number of cars in a group by 1000 cars that have painting defects. Let $Y$ be the number of cars in a group of 1000 cars that have polishing defects. What is the distribution of $X$? What is the distribution of $Y$?\n",
    "\n",
    "(e) What is the probabiltiy that the total number of defects, $X+Y$, is less than or equal to 300?\n",
    "\n",
    "**Answer:**\n",
    "\n",
    "(a)\n",
    "Let $A$ represents that the painting process is defective and $B$ represents that the polishing process is defective:\n",
    "$$P(A) = 0.2, P(A') = 0.8  $$\n",
    "$$P(B) = 0.1, P(B') = 0.9  $$\n",
    "$$P(a) = 1-P(A' and B') = 1- 0.8*0.9 = 0.28$$\n",
    "\n",
    "(b)\n",
    "Let $X$ be a random variable representing the number of cars which will be returned for rework. $X$ has a binomial distribution with parameters $n=1000$ and $p= 0.28$\n",
    "Let $F(t)$ be the CDF of $X$, $f(t)$ be the PDF of $X$.  \n",
    "$$E(X) = 1000 * P(a) = 280 $$\n",
    "so In a batch of 1000 cars, 280 cars will be returned for rework.\n",
    "\n",
    "(c)$$P(c) = F(200) =3.6\\times 10^{-9} $$\n",
    "\n",
    "(d) $X$ has a binomial distribution with parameters $n=1000$ and $p=0.2$, $Y$ has a binomial distribution with parameters $n=1000$ and $p=0.1$.\n",
    "\n",
    "(e)\n",
    "According to (d), $X$ has a binomial distribution with mean 200 and standard deviation 12.65, $Y$ has a binomial distribution with mean 100 and standard deviation 9.49. We can assume that\n",
    "$$X \\sim Bin(1000,0.2), Y \\sim Bin(1000,0.1)$$\n",
    "so\n",
    "$$X+Y \\sim N(300, \\sigma^2)$$\n",
    "$$E(X+Y) = 300 $$\n",
    "so\n",
    "$$P(X+Y \\le 300)=0.5$$\n"
   ]
  },
  {
   "cell_type": "code",
   "execution_count": 59,
   "metadata": {},
   "outputs": [
    {
     "data": {
      "text/plain": [
       "3.600219457488701e-09"
      ]
     },
     "execution_count": 59,
     "metadata": {},
     "output_type": "execute_result"
    }
   ],
   "source": [
    "from scipy.stats import binom\n",
    "dist=binom(n=1000,p=0.28)\n",
    "dist.cdf(200)"
   ]
  },
  {
   "cell_type": "markdown",
   "metadata": {},
   "source": [
    "## Q7. Sampling from an Arbitrary Discrete Distribution\n",
    "\n",
    "The `scipy.stats.rv_discrete` package only supports discrete distributions with integer values. In this exercise, you will write a function `sample(probabilities,values)` that takes two inputs:\n",
    "- `probabilities`: a list of non-negative numbers adding up to one.\n",
    "- `values`: a list of numerical values, not necessarily positive or integer. \n",
    "The function should return a random value from the list `values`, based on the corresponding probabilities.\n",
    "\n",
    "For example, the code\n",
    "```\n",
    "sample([0.5,0.1,0.4],[3.5,-1,4.2])\n",
    "```\n",
    "\n",
    "Should return 3.5 with probability .5, -1 with probability 0.1, and 4.2 with probability 0.4.\n",
    "\n",
    "Write your function in the code cell below, and test it by drawing 10,000 samples and checking whether the frequencies of values correspond approximately to the probabilities you input.\n",
    "\n",
    "**Hint:**\n",
    "You can sample from an arbitrary discrete distribution by first drawing a uniformly random sample from 0 to 1, using the `np.random.random()` function or the `scipy.stats.uniform` package. Call this uniform random sample `z`. Then in the above example, you would return 3.5 if `z` is between 0 and 0.5, return -1 if `z` is between 0.5 and 0.6, and return 4.2 if `z` is between 0.6 and 1."
   ]
  },
  {
   "cell_type": "code",
   "execution_count": 23,
   "metadata": {},
   "outputs": [],
   "source": [
    "from scipy.stats import uniform\n",
    "import pandas as pd\n",
    "import numpy as np\n",
    "\n",
    "def sample(probabilities, values):\n",
    "    d={}\n",
    "    total = 0\n",
    "    value = 0\n",
    "    for i in range(len(probabilities)):\n",
    "        total+=probabilities[i]\n",
    "        d[total]=values[i]\n",
    "    z=np.random.random()\n",
    "    for p in d.keys():\n",
    "        if z <= p:\n",
    "            value=d[p]\n",
    "            break\n",
    "    return value"
   ]
  },
  {
   "cell_type": "code",
   "execution_count": 24,
   "metadata": {},
   "outputs": [
    {
     "data": {
      "text/plain": [
       "-1"
      ]
     },
     "execution_count": 24,
     "metadata": {},
     "output_type": "execute_result"
    }
   ],
   "source": [
    "sample([0.5,0.1,0.4],[3.5,-1,4.2])"
   ]
  },
  {
   "cell_type": "code",
   "execution_count": 25,
   "metadata": {},
   "outputs": [
    {
     "data": {
      "image/png": "[encoded data removed]",
      "text/plain": [
       "<Figure size 432x288 with 1 Axes>"
      ]
     },
     "metadata": {
      "needs_background": "light"
     },
     "output_type": "display_data"
    }
   ],
   "source": [
    "import matplotlib.pyplot as plt \n",
    "t=[]\n",
    "for i in range(10000):\n",
    "    t.append(sample([0.5,0.1,0.4],[3.5,-1,4.2]))\n",
    "plt.hist(t);"
   ]
  },
  {
   "cell_type": "markdown",
   "metadata": {},
   "source": [
    "## Q8. Simulating Distribution of Daily Earnings at Rockport\n",
    "\n",
    "In this exercise, you will use the `scipy.stats` package to generate normal and general discrete samples, in order to plot the shape of the probability distributions of the daily earnings from using Rockport in the example in DMD 5.1 (from pre-class readings). Simulate 10000 samples and plot the frequency instead of the density. You should also include the proper titles and labels of the x and y axis. Write your code in the code cell below (a correct sample graph is below).\n",
    "\n",
    "**Hints:**\n",
    "See page 196-197 in DMD for description of the distribution. It has the form $price*min(demand,3500)-10000$, where price is normally distributed with mean $\\mu = 3.65$ and standard deviation of $\\sigma=0.2$, demand follows a discrete distribution, as in the following table. (You can either use your code from Q7 to sample from the discrete distribution, or use `scipy.stats.rv_discrete` since all the values are integers. Or you can try both and see if the results are approximately the same.) You should make the price zero whenever you get a negative sample.\n",
    "\n",
    "| Demand (lbs of codfish) | Probability |\n",
    "|--|--|\n",
    "|0 | 0.02|\n",
    "|1000|0.03|\n",
    "|2000|0.05|\n",
    "|3000|0.08|\n",
    "|4000|0.33|\n",
    "|5000|0.29|\n",
    "|6000|0.20|\n",
    "\n"
   ]
  },
  {
   "cell_type": "code",
   "execution_count": 94,
   "metadata": {},
   "outputs": [],
   "source": [
    "from scipy.stats import norm\n",
    "from scipy.stats import rv_discrete\n",
    "import pandas as pd\n",
    "import numpy as np\n",
    "\n",
    "np.random.seed(0)\n",
    "dist=norm(3.65,0.2)\n",
    "price = dist.rvs(10000)\n",
    "price[price < 0] = 0\n",
    "\n",
    "scipy.stats.rv_discrete"
   ]
  },
  {
   "cell_type": "code",
   "execution_count": 18,
   "metadata": {},
   "outputs": [
    {
     "data": {
      "image/png": "[encoded data removed]",
      "text/plain": [
       "<Figure size 432x288 with 1 Axes>"
      ]
     },
     "metadata": {
      "needs_background": "light"
     },
     "output_type": "display_data"
    }
   ],
   "source": [
    "from scipy.stats import norm\n",
    "from scipy.stats import rv_discrete\n",
    "import matplotlib.pyplot as plt \n",
    "import pandas as pd\n",
    "import numpy as np\n",
    "\n",
    "price = norm(3.65,0.2)\n",
    "\n",
    "demand = []\n",
    "earning = []\n",
    "\n",
    "for i in range(10000):\n",
    "    demand.append(sample([0.02,0.03,0.05,0.08,0.33,0.29,0.20],[0,1000,2000,3000,4000,5000,6000]))\n",
    "    earning.append(max(price.rvs(),0) * min(demand[i],3500) -10000)\n",
    "\n",
    "plt.hist(earning, bins=50)\n",
    "plt.title('Distribution of earnings from Rockport (10000 simulations)')\n",
    "plt.xlabel('Earnings from Rockport')\n",
    "plt.ylabel('Frequency');"
   ]
  },
  {
   "cell_type": "code",
   "execution_count": 22,
   "metadata": {},
   "outputs": [
    {
     "data": {
      "image/png": "[encoded data removed]",
      "text/plain": [
       "<Figure size 432x288 with 1 Axes>"
      ]
     },
     "metadata": {
      "needs_background": "light"
     },
     "output_type": "display_data"
    }
   ],
   "source": [
    "from scipy.stats import norm\n",
    "from scipy.stats import rv_discrete\n",
    "import pandas as pd\n",
    "import matplotlib.pyplot as plt\n",
    "\n",
    "price=norm(3.65,0.2)\n",
    "demand=rv_discrete(values=((0,1000,2000,3000,4000,5000,6000),(0.02,0.03,0.05,0.08,0.33,0.29,0.20)))\n",
    "earnings=[]\n",
    "\n",
    "for i in range(10000):\n",
    "    earning=max(price.rvs(),0)*min(demand.rvs(),3500)-10000\n",
    "    earnings.append(earning)\n",
    "\n",
    "plt.hist(earnings, bins=50)\n",
    "plt.title('Distribution of earnings from Rockport (10000 simulations)')\n",
    "plt.xlabel('Earnings from Rockport')\n",
    "plt.ylabel('Frequency');"
   ]
  },
  {
   "cell_type": "code",
   "execution_count": 1,
   "metadata": {},
   "outputs": [
    {
     "data": {
      "image/png": "[encoded data removed]",
      "text/plain": [
       "<Figure size 432x288 with 1 Axes>"
      ]
     },
     "metadata": {},
     "output_type": "display_data"
    }
   ],
   "source": [
    "# Sample output (your code should output a graph that looks essentially identically)"
   ]
  }
 ],
 "metadata": {
  "kernelspec": {
   "display_name": "Python 3",
   "language": "python",
   "name": "python3"
  },
  "language_info": {
   "codemirror_mode": {
    "name": "ipython",
    "version": 3
   },
   "file_extension": ".py",
   "mimetype": "text/x-python",
   "name": "python",
   "nbconvert_exporter": "python",
   "pygments_lexer": "ipython3",
   "version": "3.7.1"
  }
 },
 "nbformat": 4,
 "nbformat_minor": 2
}
